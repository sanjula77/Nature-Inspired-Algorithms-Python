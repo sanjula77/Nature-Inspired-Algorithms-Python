{
  "cells": [
    {
      "cell_type": "code",
      "execution_count": 7,
      "metadata": {
        "id": "DnIWA-OB7O6P"
      },
      "outputs": [],
      "source": [
        "import pandas as pd\n",
        "import numpy as np\n",
        "import matplotlib.pyplot as plt\n",
        "import seaborn as sns"
      ]
    },
    {
      "cell_type": "markdown",
      "metadata": {
        "id": "uBvHu4zrHfQC"
      },
      "source": [
        "# **DATA UNDERSTANDING**\n",
        "\n",
        "## Data Exploration"
      ]
    },
    {
      "cell_type": "code",
      "execution_count": 8,
      "metadata": {
        "colab": {
          "base_uri": "https://localhost:8080/",
          "height": 278
        },
        "id": "lq72mAW8Gzwk",
        "outputId": "025f5198-9696-49c1-cdfd-0554656f88f3"
      },
      "outputs": [
        {
          "data": {
            "text/html": [
              "<div>\n",
              "<style scoped>\n",
              "    .dataframe tbody tr th:only-of-type {\n",
              "        vertical-align: middle;\n",
              "    }\n",
              "\n",
              "    .dataframe tbody tr th {\n",
              "        vertical-align: top;\n",
              "    }\n",
              "\n",
              "    .dataframe thead th {\n",
              "        text-align: right;\n",
              "    }\n",
              "</style>\n",
              "<table border=\"1\" class=\"dataframe\">\n",
              "  <thead>\n",
              "    <tr style=\"text-align: right;\">\n",
              "      <th></th>\n",
              "      <th>Unnamed: 0</th>\n",
              "      <th>Loan_ID</th>\n",
              "      <th>Gender</th>\n",
              "      <th>Married</th>\n",
              "      <th>Dependents</th>\n",
              "      <th>Education</th>\n",
              "      <th>Self_Employed</th>\n",
              "      <th>ApplicantIncome</th>\n",
              "      <th>CoapplicantIncome</th>\n",
              "      <th>LoanAmount</th>\n",
              "      <th>Loan_Amount_Term</th>\n",
              "      <th>Credit_History</th>\n",
              "      <th>Property_Area</th>\n",
              "      <th>Loan_Status</th>\n",
              "    </tr>\n",
              "  </thead>\n",
              "  <tbody>\n",
              "    <tr>\n",
              "      <th>0</th>\n",
              "      <td>0</td>\n",
              "      <td>LP001003</td>\n",
              "      <td>Male</td>\n",
              "      <td>Yes</td>\n",
              "      <td>1</td>\n",
              "      <td>Graduate</td>\n",
              "      <td>No</td>\n",
              "      <td>4583.0</td>\n",
              "      <td>1508.0</td>\n",
              "      <td>128.0</td>\n",
              "      <td>360.0</td>\n",
              "      <td>1.0</td>\n",
              "      <td>Rural</td>\n",
              "      <td>N</td>\n",
              "    </tr>\n",
              "    <tr>\n",
              "      <th>1</th>\n",
              "      <td>1</td>\n",
              "      <td>LP001005</td>\n",
              "      <td>Male</td>\n",
              "      <td>Yes</td>\n",
              "      <td>0</td>\n",
              "      <td>Graduate</td>\n",
              "      <td>Yes</td>\n",
              "      <td>3000.0</td>\n",
              "      <td>0.0</td>\n",
              "      <td>66.0</td>\n",
              "      <td>360.0</td>\n",
              "      <td>1.0</td>\n",
              "      <td>Urban</td>\n",
              "      <td>Y</td>\n",
              "    </tr>\n",
              "    <tr>\n",
              "      <th>2</th>\n",
              "      <td>2</td>\n",
              "      <td>LP001006</td>\n",
              "      <td>Male</td>\n",
              "      <td>Yes</td>\n",
              "      <td>0</td>\n",
              "      <td>Not Graduate</td>\n",
              "      <td>No</td>\n",
              "      <td>2583.0</td>\n",
              "      <td>2358.0</td>\n",
              "      <td>120.0</td>\n",
              "      <td>360.0</td>\n",
              "      <td>1.0</td>\n",
              "      <td>Urban</td>\n",
              "      <td>Y</td>\n",
              "    </tr>\n",
              "    <tr>\n",
              "      <th>3</th>\n",
              "      <td>3</td>\n",
              "      <td>LP001008</td>\n",
              "      <td>Male</td>\n",
              "      <td>No</td>\n",
              "      <td>0</td>\n",
              "      <td>Graduate</td>\n",
              "      <td>No</td>\n",
              "      <td>6000.0</td>\n",
              "      <td>0.0</td>\n",
              "      <td>141.0</td>\n",
              "      <td>360.0</td>\n",
              "      <td>1.0</td>\n",
              "      <td>Urban</td>\n",
              "      <td>Y</td>\n",
              "    </tr>\n",
              "    <tr>\n",
              "      <th>4</th>\n",
              "      <td>4</td>\n",
              "      <td>LP001013</td>\n",
              "      <td>Male</td>\n",
              "      <td>Yes</td>\n",
              "      <td>0</td>\n",
              "      <td>Not Graduate</td>\n",
              "      <td>No</td>\n",
              "      <td>2333.0</td>\n",
              "      <td>1516.0</td>\n",
              "      <td>95.0</td>\n",
              "      <td>360.0</td>\n",
              "      <td>1.0</td>\n",
              "      <td>Urban</td>\n",
              "      <td>Y</td>\n",
              "    </tr>\n",
              "  </tbody>\n",
              "</table>\n",
              "</div>"
            ],
            "text/plain": [
              "   Unnamed: 0   Loan_ID Gender Married Dependents     Education Self_Employed  \\\n",
              "0           0  LP001003   Male     Yes          1      Graduate            No   \n",
              "1           1  LP001005   Male     Yes          0      Graduate           Yes   \n",
              "2           2  LP001006   Male     Yes          0  Not Graduate            No   \n",
              "3           3  LP001008   Male      No          0      Graduate            No   \n",
              "4           4  LP001013   Male     Yes          0  Not Graduate            No   \n",
              "\n",
              "   ApplicantIncome  CoapplicantIncome  LoanAmount  Loan_Amount_Term  \\\n",
              "0           4583.0             1508.0       128.0             360.0   \n",
              "1           3000.0                0.0        66.0             360.0   \n",
              "2           2583.0             2358.0       120.0             360.0   \n",
              "3           6000.0                0.0       141.0             360.0   \n",
              "4           2333.0             1516.0        95.0             360.0   \n",
              "\n",
              "   Credit_History Property_Area Loan_Status  \n",
              "0             1.0         Rural           N  \n",
              "1             1.0         Urban           Y  \n",
              "2             1.0         Urban           Y  \n",
              "3             1.0         Urban           Y  \n",
              "4             1.0         Urban           Y  "
            ]
          },
          "execution_count": 8,
          "metadata": {},
          "output_type": "execute_result"
        }
      ],
      "source": [
        "data=pd.read_csv(\"./data/loan_data_1.csv\")\n",
        "\n",
        "#view first few rows\n",
        "data.head()"
      ]
    },
    {
      "cell_type": "code",
      "execution_count": 9,
      "metadata": {
        "colab": {
          "base_uri": "https://localhost:8080/"
        },
        "id": "MCz-XbREX-kQ",
        "outputId": "c00837ee-8502-44b4-9fef-7e23e0a18931"
      },
      "outputs": [
        {
          "data": {
            "text/plain": [
              "(381, 14)"
            ]
          },
          "execution_count": 9,
          "metadata": {},
          "output_type": "execute_result"
        }
      ],
      "source": [
        "#Check  the dimention\n",
        "data.shape"
      ]
    },
    {
      "cell_type": "code",
      "execution_count": 10,
      "metadata": {
        "colab": {
          "base_uri": "https://localhost:8080/",
          "height": 174
        },
        "id": "aPoU19bnsT0V",
        "outputId": "57bd31cd-2892-4214-d81e-6f6f3377cdee"
      },
      "outputs": [
        {
          "data": {
            "text/html": [
              "<div>\n",
              "<style scoped>\n",
              "    .dataframe tbody tr th:only-of-type {\n",
              "        vertical-align: middle;\n",
              "    }\n",
              "\n",
              "    .dataframe tbody tr th {\n",
              "        vertical-align: top;\n",
              "    }\n",
              "\n",
              "    .dataframe thead th {\n",
              "        text-align: right;\n",
              "    }\n",
              "</style>\n",
              "<table border=\"1\" class=\"dataframe\">\n",
              "  <thead>\n",
              "    <tr style=\"text-align: right;\">\n",
              "      <th></th>\n",
              "      <th>counts</th>\n",
              "      <th>freqs</th>\n",
              "    </tr>\n",
              "    <tr>\n",
              "      <th>categories</th>\n",
              "      <th></th>\n",
              "      <th></th>\n",
              "    </tr>\n",
              "  </thead>\n",
              "  <tbody>\n",
              "    <tr>\n",
              "      <th>F</th>\n",
              "      <td>85</td>\n",
              "      <td>0.223097</td>\n",
              "    </tr>\n",
              "    <tr>\n",
              "      <th>M</th>\n",
              "      <td>291</td>\n",
              "      <td>0.763780</td>\n",
              "    </tr>\n",
              "    <tr>\n",
              "      <th>n</th>\n",
              "      <td>5</td>\n",
              "      <td>0.013123</td>\n",
              "    </tr>\n",
              "  </tbody>\n",
              "</table>\n",
              "</div>"
            ],
            "text/plain": [
              "            counts     freqs\n",
              "categories                  \n",
              "F               85  0.223097\n",
              "M              291  0.763780\n",
              "n                5  0.013123"
            ]
          },
          "execution_count": 10,
          "metadata": {},
          "output_type": "execute_result"
        }
      ],
      "source": [
        "#create categorical values\n",
        "Gen = data['Gender'].astype(str) #convert into strings\n",
        "new_Gen = np.array([data[0] for data in Gen])\n",
        "\n",
        "new_Gen = pd.Categorical(new_Gen)\n",
        "new_Gen.describe()"
      ]
    },
    {
      "cell_type": "code",
      "execution_count": 11,
      "metadata": {
        "colab": {
          "base_uri": "https://localhost:8080/"
        },
        "id": "g2ytfZkxOM0p",
        "outputId": "33b3e042-edab-4c33-a345-71839ed07b30"
      },
      "outputs": [
        {
          "name": "stdout",
          "output_type": "stream",
          "text": [
            "<class 'pandas.core.frame.DataFrame'>\n",
            "RangeIndex: 381 entries, 0 to 380\n",
            "Data columns (total 14 columns):\n",
            " #   Column             Non-Null Count  Dtype  \n",
            "---  ------             --------------  -----  \n",
            " 0   Unnamed: 0         381 non-null    int64  \n",
            " 1   Loan_ID            381 non-null    object \n",
            " 2   Gender             376 non-null    object \n",
            " 3   Married            381 non-null    object \n",
            " 4   Dependents         373 non-null    object \n",
            " 5   Education          375 non-null    object \n",
            " 6   Self_Employed      360 non-null    object \n",
            " 7   ApplicantIncome    369 non-null    float64\n",
            " 8   CoapplicantIncome  363 non-null    float64\n",
            " 9   LoanAmount         373 non-null    float64\n",
            " 10  Loan_Amount_Term   370 non-null    float64\n",
            " 11  Credit_History     351 non-null    float64\n",
            " 12  Property_Area      381 non-null    object \n",
            " 13  Loan_Status        381 non-null    object \n",
            "dtypes: float64(5), int64(1), object(8)\n",
            "memory usage: 41.8+ KB\n"
          ]
        }
      ],
      "source": [
        "data.info()"
      ]
    },
    {
      "cell_type": "code",
      "execution_count": 12,
      "metadata": {
        "colab": {
          "base_uri": "https://localhost:8080/"
        },
        "id": "PNqD5UO7OfS5",
        "outputId": "d0f7c041-2e82-4c0f-af68-ea95ccaadf13"
      },
      "outputs": [
        {
          "data": {
            "text/plain": [
              "Unnamed: 0             int64\n",
              "Loan_ID               object\n",
              "Gender                object\n",
              "Married               object\n",
              "Dependents            object\n",
              "Education             object\n",
              "Self_Employed         object\n",
              "ApplicantIncome      float64\n",
              "CoapplicantIncome    float64\n",
              "LoanAmount           float64\n",
              "Loan_Amount_Term     float64\n",
              "Credit_History       float64\n",
              "Property_Area         object\n",
              "Loan_Status           object\n",
              "dtype: object"
            ]
          },
          "execution_count": 12,
          "metadata": {},
          "output_type": "execute_result"
        }
      ],
      "source": [
        "#check data types\n",
        "data.dtypes"
      ]
    },
    {
      "cell_type": "code",
      "execution_count": 13,
      "metadata": {
        "colab": {
          "base_uri": "https://localhost:8080/",
          "height": 300
        },
        "id": "4t8Suo6auLM4",
        "outputId": "0776cf0c-262a-4e25-b8d7-1b640af0fe65"
      },
      "outputs": [
        {
          "data": {
            "text/html": [
              "<div>\n",
              "<style scoped>\n",
              "    .dataframe tbody tr th:only-of-type {\n",
              "        vertical-align: middle;\n",
              "    }\n",
              "\n",
              "    .dataframe tbody tr th {\n",
              "        vertical-align: top;\n",
              "    }\n",
              "\n",
              "    .dataframe thead th {\n",
              "        text-align: right;\n",
              "    }\n",
              "</style>\n",
              "<table border=\"1\" class=\"dataframe\">\n",
              "  <thead>\n",
              "    <tr style=\"text-align: right;\">\n",
              "      <th></th>\n",
              "      <th>Unnamed: 0</th>\n",
              "      <th>ApplicantIncome</th>\n",
              "      <th>CoapplicantIncome</th>\n",
              "      <th>LoanAmount</th>\n",
              "      <th>Loan_Amount_Term</th>\n",
              "      <th>Credit_History</th>\n",
              "    </tr>\n",
              "  </thead>\n",
              "  <tbody>\n",
              "    <tr>\n",
              "      <th>count</th>\n",
              "      <td>381.000000</td>\n",
              "      <td>369.000000</td>\n",
              "      <td>363.000000</td>\n",
              "      <td>373.000000</td>\n",
              "      <td>370.000000</td>\n",
              "      <td>351.000000</td>\n",
              "    </tr>\n",
              "    <tr>\n",
              "      <th>mean</th>\n",
              "      <td>190.000000</td>\n",
              "      <td>3563.422764</td>\n",
              "      <td>1267.005289</td>\n",
              "      <td>104.914209</td>\n",
              "      <td>340.864865</td>\n",
              "      <td>0.837607</td>\n",
              "    </tr>\n",
              "    <tr>\n",
              "      <th>std</th>\n",
              "      <td>110.129469</td>\n",
              "      <td>1427.371257</td>\n",
              "      <td>2388.048316</td>\n",
              "      <td>28.484822</td>\n",
              "      <td>68.549257</td>\n",
              "      <td>0.369338</td>\n",
              "    </tr>\n",
              "    <tr>\n",
              "      <th>min</th>\n",
              "      <td>0.000000</td>\n",
              "      <td>150.000000</td>\n",
              "      <td>0.000000</td>\n",
              "      <td>9.000000</td>\n",
              "      <td>12.000000</td>\n",
              "      <td>0.000000</td>\n",
              "    </tr>\n",
              "    <tr>\n",
              "      <th>25%</th>\n",
              "      <td>95.000000</td>\n",
              "      <td>2583.000000</td>\n",
              "      <td>0.000000</td>\n",
              "      <td>90.000000</td>\n",
              "      <td>360.000000</td>\n",
              "      <td>1.000000</td>\n",
              "    </tr>\n",
              "    <tr>\n",
              "      <th>50%</th>\n",
              "      <td>190.000000</td>\n",
              "      <td>3326.000000</td>\n",
              "      <td>830.000000</td>\n",
              "      <td>110.000000</td>\n",
              "      <td>360.000000</td>\n",
              "      <td>1.000000</td>\n",
              "    </tr>\n",
              "    <tr>\n",
              "      <th>75%</th>\n",
              "      <td>285.000000</td>\n",
              "      <td>4226.000000</td>\n",
              "      <td>2008.000000</td>\n",
              "      <td>127.000000</td>\n",
              "      <td>360.000000</td>\n",
              "      <td>1.000000</td>\n",
              "    </tr>\n",
              "    <tr>\n",
              "      <th>max</th>\n",
              "      <td>380.000000</td>\n",
              "      <td>9703.000000</td>\n",
              "      <td>33837.000000</td>\n",
              "      <td>150.000000</td>\n",
              "      <td>480.000000</td>\n",
              "      <td>1.000000</td>\n",
              "    </tr>\n",
              "  </tbody>\n",
              "</table>\n",
              "</div>"
            ],
            "text/plain": [
              "       Unnamed: 0  ApplicantIncome  CoapplicantIncome  LoanAmount  \\\n",
              "count  381.000000       369.000000         363.000000  373.000000   \n",
              "mean   190.000000      3563.422764        1267.005289  104.914209   \n",
              "std    110.129469      1427.371257        2388.048316   28.484822   \n",
              "min      0.000000       150.000000           0.000000    9.000000   \n",
              "25%     95.000000      2583.000000           0.000000   90.000000   \n",
              "50%    190.000000      3326.000000         830.000000  110.000000   \n",
              "75%    285.000000      4226.000000        2008.000000  127.000000   \n",
              "max    380.000000      9703.000000       33837.000000  150.000000   \n",
              "\n",
              "       Loan_Amount_Term  Credit_History  \n",
              "count        370.000000      351.000000  \n",
              "mean         340.864865        0.837607  \n",
              "std           68.549257        0.369338  \n",
              "min           12.000000        0.000000  \n",
              "25%          360.000000        1.000000  \n",
              "50%          360.000000        1.000000  \n",
              "75%          360.000000        1.000000  \n",
              "max          480.000000        1.000000  "
            ]
          },
          "execution_count": 13,
          "metadata": {},
          "output_type": "execute_result"
        }
      ],
      "source": [
        "data.describe()"
      ]
    },
    {
      "cell_type": "code",
      "execution_count": 14,
      "metadata": {
        "colab": {
          "base_uri": "https://localhost:8080/",
          "height": 448
        },
        "id": "5sL58cuHEbuJ",
        "outputId": "192e0445-4e00-4038-adb3-b66ade5cdb21"
      },
      "outputs": [
        {
          "data": {
            "text/plain": [
              "<Axes: >"
            ]
          },
          "execution_count": 14,
          "metadata": {},
          "output_type": "execute_result"
        },
        {
          "data": {
            "image/png": "[encoded data removed]",
            "text/plain": [
              "<Figure size 640x480 with 1 Axes>"
            ]
          },
          "metadata": {},
          "output_type": "display_data"
        }
      ],
      "source": [
        "data[\"Dependents\"].hist()"
      ]
    },
    {
      "cell_type": "code",
      "execution_count": 15,
      "metadata": {
        "colab": {
          "base_uri": "https://localhost:8080/",
          "height": 524
        },
        "id": "Ud-oxm69vRhb",
        "outputId": "e7e42bb2-fb69-47a8-d3fa-f3a69fbe1723"
      },
      "outputs": [
        {
          "data": {
            "text/plain": [
              "<seaborn.axisgrid.FacetGrid at 0x2ba0adde110>"
            ]
          },
          "execution_count": 15,
          "metadata": {},
          "output_type": "execute_result"
        },
        {
          "data": {
            "image/png": "[encoded data removed]",
            "text/plain": [
              "<Figure size 500x500 with 1 Axes>"
            ]
          },
          "metadata": {},
          "output_type": "display_data"
        }
      ],
      "source": [
        "#explore variables\n",
        "sns.displot(data['Self_Employed'])"
      ]
    },
    {
      "cell_type": "code",
      "execution_count": 16,
      "metadata": {
        "colab": {
          "base_uri": "https://localhost:8080/",
          "height": 472
        },
        "id": "1PgfbryJDAFw",
        "outputId": "79a88b30-fbff-40c8-874d-34307c5dc383"
      },
      "outputs": [
        {
          "data": {
            "image/png": "[encoded data removed]",
            "text/plain": [
              "<Figure size 640x480 with 1 Axes>"
            ]
          },
          "metadata": {},
          "output_type": "display_data"
        }
      ],
      "source": [
        "gender_counts = data['Gender'].value_counts() #used .value_counts() to get count of each gender\n",
        "# Create the bar graph\n",
        "plt.bar(gender_counts.index, gender_counts.values, color=\"Yellow\")\n",
        "plt.xlabel(\"Gender\")\n",
        "plt.ylabel(\"Count\")\n",
        "plt.title(\"Distribution of Loan Applications by Gender\")\n",
        "plt.show()"
      ]
    },
    {
      "cell_type": "code",
      "execution_count": 17,
      "metadata": {
        "colab": {
          "base_uri": "https://localhost:8080/",
          "height": 525
        },
        "id": "700EShcjP_7H",
        "outputId": "5731ed8f-0851-4134-d3cd-ff3e54fc579a"
      },
      "outputs": [
        {
          "data": {
            "text/plain": [
              "<seaborn.axisgrid.FacetGrid at 0x2ba08c3ef20>"
            ]
          },
          "execution_count": 17,
          "metadata": {},
          "output_type": "execute_result"
        },
        {
          "data": {
            "image/png": "[encoded data removed]",
            "text/plain": [
              "<Figure size 500x500 with 1 Axes>"
            ]
          },
          "metadata": {},
          "output_type": "display_data"
        }
      ],
      "source": [
        "sns.displot(data['ApplicantIncome'])"
      ]
    },
    {
      "cell_type": "code",
      "execution_count": 18,
      "metadata": {
        "colab": {
          "base_uri": "https://localhost:8080/",
          "height": 575
        },
        "id": "bRQHZZ1bagP3",
        "outputId": "4c2c1bf6-daa0-433f-801a-ffca02b1577c"
      },
      "outputs": [
        {
          "data": {
            "text/plain": [
              "<Axes: >"
            ]
          },
          "execution_count": 18,
          "metadata": {},
          "output_type": "execute_result"
        },
        {
          "data": {
            "image/png": "[encoded data removed]",
            "text/plain": [
              "<Figure size 640x480 with 2 Axes>"
            ]
          },
          "metadata": {},
          "output_type": "display_data"
        }
      ],
      "source": [
        "#heatmap creation\n",
        "corr = data[['ApplicantIncome', 'CoapplicantIncome', 'LoanAmount', 'Loan_Amount_Term']].corr()\n",
        "sns.heatmap(corr,annot=True)"
      ]
    },
    {
      "cell_type": "markdown",
      "metadata": {
        "id": "TgsU-eJHV0Lh"
      },
      "source": [
        "# **Data Preprocessing**"
      ]
    },
    {
      "cell_type": "markdown",
      "metadata": {
        "id": "LdC6QuBbWslE"
      },
      "source": [
        "* **Cleaning**"
      ]
    },
    {
      "cell_type": "code",
      "execution_count": 19,
      "metadata": {
        "colab": {
          "base_uri": "https://localhost:8080/"
        },
        "collapsed": true,
        "id": "CbZfwLr6YDeM",
        "outputId": "03709012-795f-4494-8358-0fb79ed8aeb3"
      },
      "outputs": [
        {
          "data": {
            "text/plain": [
              "array(['LP001003', 'LP001005', 'LP001006', 'LP001008', 'LP001013',\n",
              "       'LP001024', 'LP001027', 'LP001029', 'LP001030', 'LP001032',\n",
              "       'LP001034', 'LP001036', 'LP001038', 'LP001041', 'LP001043',\n",
              "       'LP001047', 'LP001050', 'LP001068', 'LP001073', 'LP001086',\n",
              "       'LP001087', 'LP001095', 'LP001097', 'LP001098', 'LP001109',\n",
              "       'LP001112', 'LP001116', 'LP001119', 'LP001120', 'LP001123',\n",
              "       'LP001131', 'LP001136', 'LP001137', 'LP001138', 'LP001144',\n",
              "       'LP001146', 'LP001151', 'LP001155', 'LP001157', 'LP001164',\n",
              "       'LP001179', 'LP001194', 'LP001195', 'LP001197', 'LP001199',\n",
              "       'LP001205', 'LP001206', 'LP001222', 'LP001228', 'LP001238',\n",
              "       'LP001241', 'LP001245', 'LP001248', 'LP001250', 'LP001255',\n",
              "       'LP001259', 'LP001264', 'LP001265', 'LP001275', 'LP001279',\n",
              "       'LP001280', 'LP001282', 'LP001316', 'LP001319', 'LP001322',\n",
              "       'LP001325', 'LP001327', 'LP001333', 'LP001334', 'LP001343',\n",
              "       'LP001345', 'LP001367', 'LP001370', 'LP001384', 'LP001385',\n",
              "       'LP001387', 'LP001398', 'LP001405', 'LP001430', 'LP001431',\n",
              "       'LP001432', 'LP001443', 'LP001473', 'LP001478', 'LP001482',\n",
              "       'LP001487', 'LP001489', 'LP001491', 'LP001493', 'LP001507',\n",
              "       'LP001514', 'LP001518', 'LP001520', 'LP001528', 'LP001532',\n",
              "       'LP001535', 'LP001546', 'LP001560', 'LP001565', 'LP001572',\n",
              "       'LP001577', 'LP001578', 'LP001579', 'LP001581', 'LP001586',\n",
              "       'LP001603', 'LP001606', 'LP001608', 'LP001616', 'LP001630',\n",
              "       'LP001634', 'LP001636', 'LP001639', 'LP001641', 'LP001643',\n",
              "       'LP001653', 'LP001658', 'LP001664', 'LP001669', 'LP001671',\n",
              "       'LP001674', 'LP001688', 'LP001691', 'LP001692', 'LP001693',\n",
              "       'LP001698', 'LP001699', 'LP001702', 'LP001711', 'LP001715',\n",
              "       'LP001716', 'LP001720', 'LP001722', 'LP001726', 'LP001732',\n",
              "       'LP001734', 'LP001736', 'LP001743', 'LP001744', 'LP001750',\n",
              "       'LP001754', 'LP001765', 'LP001768', 'LP001770', 'LP001778',\n",
              "       'LP001788', 'LP001790', 'LP001792', 'LP001798', 'LP001800',\n",
              "       'LP001807', 'LP001811', 'LP001813', 'LP001814', 'LP001819',\n",
              "       'LP001824', 'LP001825', 'LP001836', 'LP001841', 'LP001849',\n",
              "       'LP001854', 'LP001864', 'LP001868', 'LP001871', 'LP001872',\n",
              "       'LP001877', 'LP001883', 'LP001884', 'LP001888', 'LP001892',\n",
              "       'LP001894', 'LP001896', 'LP001900', 'LP001904', 'LP001908',\n",
              "       'LP001914', 'LP001915', 'LP001917', 'LP001924', 'LP001925',\n",
              "       'LP001926', 'LP001931', 'LP001936', 'LP001938', 'LP001940',\n",
              "       'LP001945', 'LP001949', 'LP001954', 'LP001963', 'LP001964',\n",
              "       'LP001972', 'LP001974', 'LP001977', 'LP001978', 'LP001993',\n",
              "       'LP001994', 'LP002002', 'LP002004', 'LP002006', 'LP002008',\n",
              "       'LP002031', 'LP002035', 'LP002036', 'LP002043', 'LP002051',\n",
              "       'LP002053', 'LP002055', 'LP002068', 'LP002086', 'LP002087',\n",
              "       'LP002097', 'LP002098', 'LP002100', 'LP002106', 'LP002114',\n",
              "       'LP002116', 'LP002126', 'LP002128', 'LP002131', 'LP002141',\n",
              "       'LP002142', 'LP002143', 'LP002144', 'LP002151', 'LP002158',\n",
              "       'LP002161', 'LP002175', 'LP002178', 'LP002180', 'LP002181',\n",
              "       'LP002187', 'LP002188', 'LP002205', 'LP002209', 'LP002211',\n",
              "       'LP002219', 'LP002223', 'LP002224', 'LP002225', 'LP002226',\n",
              "       'LP002234', 'LP002236', 'LP002237', 'LP002239', 'LP002244',\n",
              "       'LP002250', 'LP002263', 'LP002265', 'LP002266', 'LP002272',\n",
              "       'LP002277', 'LP002281', 'LP002284', 'LP002287', 'LP002288',\n",
              "       'LP002296', 'LP002297', 'LP002300', 'LP002305', 'LP002308',\n",
              "       'LP002314', 'LP002318', 'LP002332', 'LP002337', 'LP002345',\n",
              "       'LP002347', 'LP002348', 'LP002357', 'LP002361', 'LP002362',\n",
              "       'LP002366', 'LP002367', 'LP002368', 'LP002369', 'LP002370',\n",
              "       'LP002377', 'LP002379', 'LP002387', 'LP002390', 'LP002398',\n",
              "       'LP002407', 'LP002418', 'LP002429', 'LP002434', 'LP002435',\n",
              "       'LP002443', 'LP002446', 'LP002447', 'LP002448', 'LP002449',\n",
              "       'LP002453', 'LP002455', 'LP002459', 'LP002472', 'LP002484',\n",
              "       'LP002489', 'LP002493', 'LP002494', 'LP002500', 'LP002502',\n",
              "       'LP002505', 'LP002517', 'LP002519', 'LP002522', 'LP002530',\n",
              "       'LP002536', 'LP002537', 'LP002544', 'LP002545', 'LP002556',\n",
              "       'LP002560', 'LP002571', 'LP002585', 'LP002586', 'LP002587',\n",
              "       'LP002588', 'LP002600', 'LP002603', 'LP002606', 'LP002618',\n",
              "       'LP002619', 'LP002625', 'LP002637', 'LP002643', 'LP002648',\n",
              "       'LP002659', 'LP002670', 'LP002682', 'LP002684', 'LP002689',\n",
              "       'LP002690', 'LP002692', 'LP002705', 'LP002714', 'LP002716',\n",
              "       'LP002720', 'LP002723', 'LP002732', 'LP002738', 'LP002739',\n",
              "       'LP002741', 'LP002743', 'LP002753', 'LP002755', 'LP002757',\n",
              "       'LP002768', 'LP002772', 'LP002776', 'LP002777', 'LP002789',\n",
              "       'LP002792', 'LP002794', 'LP002807', 'LP002821', 'LP002833',\n",
              "       'LP002836', 'LP002837', 'LP002840', 'LP002841', 'LP002863',\n",
              "       'LP002868', 'LP002872', 'LP002874', 'LP002877', 'LP002893',\n",
              "       'LP002894', 'LP002898', 'LP002911', 'LP002916', 'LP002917',\n",
              "       'LP002925', 'LP002926', 'LP002928', 'LP002936', 'LP002940',\n",
              "       'LP002943', 'LP002953', 'LP002974', 'LP002978', 'LP002979',\n",
              "       'LP002990'], dtype=object)"
            ]
          },
          "execution_count": 19,
          "metadata": {},
          "output_type": "execute_result"
        }
      ],
      "source": [
        "#Take unique values\n",
        "data['Loan_ID'].unique()"
      ]
    },
    {
      "cell_type": "code",
      "execution_count": 20,
      "metadata": {
        "colab": {
          "base_uri": "https://localhost:8080/"
        },
        "id": "qxNjMvrsQ4WK",
        "outputId": "62e93f33-0302-4916-beeb-dfcab0103fd7"
      },
      "outputs": [
        {
          "data": {
            "text/plain": [
              "0"
            ]
          },
          "execution_count": 20,
          "metadata": {},
          "output_type": "execute_result"
        }
      ],
      "source": [
        "#check null values\n",
        "data.duplicated().sum()"
      ]
    },
    {
      "cell_type": "code",
      "execution_count": 21,
      "metadata": {
        "colab": {
          "base_uri": "https://localhost:8080/"
        },
        "id": "ZQBvZZztIU5r",
        "outputId": "f51e1c4d-55f8-4bbc-cf4e-eb5762b48db8"
      },
      "outputs": [
        {
          "name": "stdout",
          "output_type": "stream",
          "text": [
            "Index(['Loan_ID', 'Gender', 'Married', 'Dependents', 'Education',\n",
            "       'Self_Employed', 'Property_Area', 'Loan_Status'],\n",
            "      dtype='object')\n"
          ]
        }
      ],
      "source": [
        "#get categorical columns\n",
        "categorical = data.dtypes[data.dtypes == \"object\"].index\n",
        "print(categorical)"
      ]
    },
    {
      "cell_type": "code",
      "execution_count": 22,
      "metadata": {
        "colab": {
          "base_uri": "https://localhost:8080/",
          "height": 174
        },
        "id": "hTs5n8uhLQEf",
        "outputId": "4c181aab-3f7c-4ead-a7a6-692650dcc22b"
      },
      "outputs": [
        {
          "data": {
            "text/html": [
              "<div>\n",
              "<style scoped>\n",
              "    .dataframe tbody tr th:only-of-type {\n",
              "        vertical-align: middle;\n",
              "    }\n",
              "\n",
              "    .dataframe tbody tr th {\n",
              "        vertical-align: top;\n",
              "    }\n",
              "\n",
              "    .dataframe thead th {\n",
              "        text-align: right;\n",
              "    }\n",
              "</style>\n",
              "<table border=\"1\" class=\"dataframe\">\n",
              "  <thead>\n",
              "    <tr style=\"text-align: right;\">\n",
              "      <th></th>\n",
              "      <th>Loan_ID</th>\n",
              "      <th>Gender</th>\n",
              "      <th>Married</th>\n",
              "      <th>Dependents</th>\n",
              "      <th>Education</th>\n",
              "      <th>Self_Employed</th>\n",
              "      <th>Property_Area</th>\n",
              "      <th>Loan_Status</th>\n",
              "    </tr>\n",
              "  </thead>\n",
              "  <tbody>\n",
              "    <tr>\n",
              "      <th>count</th>\n",
              "      <td>381</td>\n",
              "      <td>376</td>\n",
              "      <td>381</td>\n",
              "      <td>373</td>\n",
              "      <td>375</td>\n",
              "      <td>360</td>\n",
              "      <td>381</td>\n",
              "      <td>381</td>\n",
              "    </tr>\n",
              "    <tr>\n",
              "      <th>unique</th>\n",
              "      <td>381</td>\n",
              "      <td>2</td>\n",
              "      <td>2</td>\n",
              "      <td>4</td>\n",
              "      <td>2</td>\n",
              "      <td>2</td>\n",
              "      <td>3</td>\n",
              "      <td>2</td>\n",
              "    </tr>\n",
              "    <tr>\n",
              "      <th>top</th>\n",
              "      <td>LP001003</td>\n",
              "      <td>Male</td>\n",
              "      <td>Yes</td>\n",
              "      <td>0</td>\n",
              "      <td>Graduate</td>\n",
              "      <td>No</td>\n",
              "      <td>Semiurban</td>\n",
              "      <td>Y</td>\n",
              "    </tr>\n",
              "    <tr>\n",
              "      <th>freq</th>\n",
              "      <td>1</td>\n",
              "      <td>291</td>\n",
              "      <td>228</td>\n",
              "      <td>234</td>\n",
              "      <td>274</td>\n",
              "      <td>325</td>\n",
              "      <td>149</td>\n",
              "      <td>271</td>\n",
              "    </tr>\n",
              "  </tbody>\n",
              "</table>\n",
              "</div>"
            ],
            "text/plain": [
              "         Loan_ID Gender Married Dependents Education Self_Employed  \\\n",
              "count        381    376     381        373       375           360   \n",
              "unique       381      2       2          4         2             2   \n",
              "top     LP001003   Male     Yes          0  Graduate            No   \n",
              "freq           1    291     228        234       274           325   \n",
              "\n",
              "       Property_Area Loan_Status  \n",
              "count            381         381  \n",
              "unique             3           2  \n",
              "top        Semiurban           Y  \n",
              "freq             149         271  "
            ]
          },
          "execution_count": 22,
          "metadata": {},
          "output_type": "execute_result"
        }
      ],
      "source": [
        "#Take summary of  the categorical columns\n",
        "data[categorical].describe()"
      ]
    },
    {
      "cell_type": "code",
      "execution_count": 23,
      "metadata": {
        "id": "6C5R96LZLifl"
      },
      "outputs": [],
      "source": [
        "#remove a Loan_ID coulmn\n",
        "del data[\"Loan_ID\"]\n"
      ]
    },
    {
      "cell_type": "markdown",
      "metadata": {
        "id": "E686Qpj22X6Q"
      },
      "source": [
        "### *Check missing Values*"
      ]
    },
    {
      "cell_type": "code",
      "execution_count": 24,
      "metadata": {
        "colab": {
          "base_uri": "https://localhost:8080/"
        },
        "id": "KoFFuYd4XZDM",
        "outputId": "a83d83b1-91a0-4a09-e45b-e668df309be8"
      },
      "outputs": [
        {
          "data": {
            "text/plain": [
              "Unnamed: 0            0\n",
              "Gender                5\n",
              "Married               0\n",
              "Dependents            8\n",
              "Education             6\n",
              "Self_Employed        21\n",
              "ApplicantIncome      12\n",
              "CoapplicantIncome    18\n",
              "LoanAmount            8\n",
              "Loan_Amount_Term     11\n",
              "Credit_History       30\n",
              "Property_Area         0\n",
              "Loan_Status           0\n",
              "dtype: int64"
            ]
          },
          "execution_count": 24,
          "metadata": {},
          "output_type": "execute_result"
        }
      ],
      "source": [
        "#check missing values\n",
        "data.isnull().sum()"
      ]
    },
    {
      "cell_type": "code",
      "execution_count": 25,
      "metadata": {
        "colab": {
          "base_uri": "https://localhost:8080/"
        },
        "id": "JXoY8JHJ1q1c",
        "outputId": "948839a8-07bf-47a0-cdf2-98bdad00044b"
      },
      "outputs": [
        {
          "data": {
            "text/plain": [
              "count     369.000000\n",
              "mean     3563.422764\n",
              "std      1427.371257\n",
              "min       150.000000\n",
              "25%      2583.000000\n",
              "50%      3326.000000\n",
              "75%      4226.000000\n",
              "max      9703.000000\n",
              "Name: ApplicantIncome, dtype: float64"
            ]
          },
          "execution_count": 25,
          "metadata": {},
          "output_type": "execute_result"
        }
      ],
      "source": [
        "#clean and fill the missing values\n",
        "#ApplicantIncome\n",
        "data[\"ApplicantIncome\"].describe()"
      ]
    },
    {
      "cell_type": "code",
      "execution_count": 26,
      "metadata": {
        "id": "lqwqcCqLaB00"
      },
      "outputs": [],
      "source": [
        "#remove meissing values\n",
        "#data = data.dropna()"
      ]
    },
    {
      "cell_type": "code",
      "execution_count": 27,
      "metadata": {
        "colab": {
          "base_uri": "https://localhost:8080/"
        },
        "id": "YR1LMpYG2FFd",
        "outputId": "3eeb2b03-6df8-440a-ff49-d44097d69741"
      },
      "outputs": [
        {
          "data": {
            "text/plain": [
              "0      False\n",
              "1      False\n",
              "2      False\n",
              "3      False\n",
              "4      False\n",
              "       ...  \n",
              "376    False\n",
              "377    False\n",
              "378    False\n",
              "379    False\n",
              "380    False\n",
              "Name: ApplicantIncome, Length: 381, dtype: bool"
            ]
          },
          "execution_count": 27,
          "metadata": {},
          "output_type": "execute_result"
        }
      ],
      "source": [
        "data[\"ApplicantIncome\"].isnull()"
      ]
    },
    {
      "cell_type": "code",
      "execution_count": 28,
      "metadata": {
        "colab": {
          "base_uri": "https://localhost:8080/"
        },
        "id": "cKMq98LQ2Oil",
        "outputId": "31ddac85-e0bb-4388-c5c9-58d5739dfa17"
      },
      "outputs": [
        {
          "data": {
            "text/plain": [
              "12"
            ]
          },
          "execution_count": 28,
          "metadata": {},
          "output_type": "execute_result"
        }
      ],
      "source": [
        "#get the sum of Sum\n",
        "data[\"ApplicantIncome\"].isnull().sum()"
      ]
    },
    {
      "cell_type": "code",
      "execution_count": 29,
      "metadata": {
        "colab": {
          "base_uri": "https://localhost:8080/"
        },
        "id": "i6BQcv663Bu2",
        "outputId": "65c4e96e-369b-412d-8dcf-25e8393bd8a3"
      },
      "outputs": [
        {
          "data": {
            "text/plain": [
              "(array([ 50, 169, 207, 220, 241, 245, 302, 309, 328, 336, 337, 370],\n",
              "       dtype=int64),)"
            ]
          },
          "execution_count": 29,
          "metadata": {},
          "output_type": "execute_result"
        }
      ],
      "source": [
        "#missing value indexes\n",
        "missing_value = np.where((data)[\"ApplicantIncome\"].isnull()== True)\n",
        "missing_value"
      ]
    },
    {
      "cell_type": "code",
      "execution_count": 30,
      "metadata": {
        "colab": {
          "base_uri": "https://localhost:8080/"
        },
        "id": "xDTkLpir7dRf",
        "outputId": "97aeee45-70de-4f2c-824f-db394a79db68"
      },
      "outputs": [
        {
          "data": {
            "text/plain": [
              "3563.0"
            ]
          },
          "execution_count": 30,
          "metadata": {},
          "output_type": "execute_result"
        }
      ],
      "source": [
        "#take the mean\n",
        "mean = round((data)[\"ApplicantIncome\"].mean(),0)\n",
        "mean"
      ]
    },
    {
      "cell_type": "code",
      "execution_count": 31,
      "metadata": {
        "colab": {
          "base_uri": "https://localhost:8080/"
        },
        "id": "tzSJXz5a8yVW",
        "outputId": "755754c8-b53b-4cca-f2af-564ed6403118"
      },
      "outputs": [
        {
          "data": {
            "text/plain": [
              "3326.0"
            ]
          },
          "execution_count": 31,
          "metadata": {},
          "output_type": "execute_result"
        }
      ],
      "source": [
        "#take the median\n",
        "median = round((data)[\"ApplicantIncome\"].median(),0)\n",
        "median"
      ]
    },
    {
      "cell_type": "code",
      "execution_count": 32,
      "metadata": {
        "colab": {
          "base_uri": "https://localhost:8080/"
        },
        "id": "oWIZIppe8ahV",
        "outputId": "66f79b9a-1585-4be8-caa9-6f23411fc81f"
      },
      "outputs": [
        {
          "name": "stderr",
          "output_type": "stream",
          "text": [
            "C:\\Users\\ASUS\\AppData\\Local\\Temp\\ipykernel_15140\\1662907227.py:2: FutureWarning: A value is trying to be set on a copy of a DataFrame or Series through chained assignment using an inplace method.\n",
            "The behavior will change in pandas 3.0. This inplace method will never work because the intermediate object on which we are setting values always behaves as a copy.\n",
            "\n",
            "For example, when doing 'df[col].method(value, inplace=True)', try using 'df.method({col: value}, inplace=True)' or df[col] = df[col].method(value) instead, to perform the operation inplace on the original object.\n",
            "\n",
            "\n",
            "  data[\"ApplicantIncome\"].fillna(mean, inplace=True)\n"
          ]
        },
        {
          "data": {
            "text/plain": [
              "0"
            ]
          },
          "execution_count": 32,
          "metadata": {},
          "output_type": "execute_result"
        }
      ],
      "source": [
        "#Fill missing values with mean\n",
        "data[\"ApplicantIncome\"].fillna(mean, inplace=True)\n",
        "data[\"ApplicantIncome\"].isnull().sum()"
      ]
    },
    {
      "cell_type": "code",
      "execution_count": 33,
      "metadata": {
        "colab": {
          "base_uri": "https://localhost:8080/",
          "height": 448
        },
        "id": "vPcYXpLc3szn",
        "outputId": "15ffa8c9-c9f7-43b4-ed0a-24c2b0fff1c5"
      },
      "outputs": [
        {
          "data": {
            "text/plain": [
              "<Axes: >"
            ]
          },
          "execution_count": 33,
          "metadata": {},
          "output_type": "execute_result"
        },
        {
          "data": {
            "image/png": "[encoded data removed]",
            "text/plain": [
              "<Figure size 640x480 with 1 Axes>"
            ]
          },
          "metadata": {},
          "output_type": "display_data"
        }
      ],
      "source": [
        "#get an idea about AppicantIncome\n",
        "data[\"ApplicantIncome\"].hist()"
      ]
    },
    {
      "cell_type": "code",
      "execution_count": 34,
      "metadata": {
        "colab": {
          "base_uri": "https://localhost:8080/"
        },
        "id": "h6YtRl-5TNdw",
        "outputId": "2911bd3f-6073-45dd-946e-c11a575eae5c"
      },
      "outputs": [
        {
          "data": {
            "text/plain": [
              "(array([ 35,  43, 155, 193, 205, 232, 246, 261, 274, 286, 288, 339, 343,\n",
              "        344, 351, 352, 367, 377], dtype=int64),)"
            ]
          },
          "execution_count": 34,
          "metadata": {},
          "output_type": "execute_result"
        }
      ],
      "source": [
        "#CoapplicantIncome\n",
        "missing_values = np.where((data)[\"CoapplicantIncome\"].isnull()==True)\n",
        "missing_values"
      ]
    },
    {
      "cell_type": "code",
      "execution_count": 35,
      "metadata": {
        "colab": {
          "base_uri": "https://localhost:8080/"
        },
        "id": "xPHIuVhlUOkx",
        "outputId": "afb8095c-9a63-43e8-9903-ca4a5fb47cb5"
      },
      "outputs": [
        {
          "data": {
            "text/plain": [
              "1267.0"
            ]
          },
          "execution_count": 35,
          "metadata": {},
          "output_type": "execute_result"
        }
      ],
      "source": [
        "#get mean\n",
        "mean = round((data)[\"CoapplicantIncome\"].mean(),0)\n",
        "mean"
      ]
    },
    {
      "cell_type": "code",
      "execution_count": 36,
      "metadata": {
        "colab": {
          "base_uri": "https://localhost:8080/"
        },
        "id": "c8F754jXXjB6",
        "outputId": "08907d8d-f6fb-4e86-a2aa-16dd8117e386"
      },
      "outputs": [
        {
          "data": {
            "text/plain": [
              "18"
            ]
          },
          "execution_count": 36,
          "metadata": {},
          "output_type": "execute_result"
        }
      ],
      "source": [
        "#check the missing values\n",
        "data[\"CoapplicantIncome\"].isnull().sum()"
      ]
    },
    {
      "cell_type": "code",
      "execution_count": 37,
      "metadata": {
        "colab": {
          "base_uri": "https://localhost:8080/"
        },
        "id": "m5eJnfaOX884",
        "outputId": "27bc2146-5ac1-4992-b79f-8aa2bebf5e1b"
      },
      "outputs": [
        {
          "data": {
            "text/plain": [
              "830.0"
            ]
          },
          "execution_count": 37,
          "metadata": {},
          "output_type": "execute_result"
        }
      ],
      "source": [
        "#get median\n",
        "median = round((data)[\"CoapplicantIncome\"].median(),0)\n",
        "median"
      ]
    },
    {
      "cell_type": "code",
      "execution_count": 38,
      "metadata": {
        "colab": {
          "base_uri": "https://localhost:8080/"
        },
        "id": "mp7LCNYb8GAo",
        "outputId": "3a79b025-4913-47f1-f111-5f9288abcb71"
      },
      "outputs": [
        {
          "name": "stderr",
          "output_type": "stream",
          "text": [
            "C:\\Users\\ASUS\\AppData\\Local\\Temp\\ipykernel_15140\\4035461994.py:2: FutureWarning: A value is trying to be set on a copy of a DataFrame or Series through chained assignment using an inplace method.\n",
            "The behavior will change in pandas 3.0. This inplace method will never work because the intermediate object on which we are setting values always behaves as a copy.\n",
            "\n",
            "For example, when doing 'df[col].method(value, inplace=True)', try using 'df.method({col: value}, inplace=True)' or df[col] = df[col].method(value) instead, to perform the operation inplace on the original object.\n",
            "\n",
            "\n",
            "  data[\"CoapplicantIncome\"].fillna(mean,inplace=True)\n"
          ]
        },
        {
          "data": {
            "text/plain": [
              "0"
            ]
          },
          "execution_count": 38,
          "metadata": {},
          "output_type": "execute_result"
        }
      ],
      "source": [
        "#Fill missing values with mean\n",
        "data[\"CoapplicantIncome\"].fillna(mean,inplace=True)\n",
        "data[\"CoapplicantIncome\"].isnull().sum()"
      ]
    },
    {
      "cell_type": "code",
      "execution_count": 39,
      "metadata": {
        "colab": {
          "base_uri": "https://localhost:8080/",
          "height": 448
        },
        "id": "rgjGr18YY29b",
        "outputId": "08095fb8-fe08-47cf-fbdf-ace199c160c7"
      },
      "outputs": [
        {
          "data": {
            "text/plain": [
              "<Axes: >"
            ]
          },
          "execution_count": 39,
          "metadata": {},
          "output_type": "execute_result"
        },
        {
          "data": {
            "image/png": "[encoded data removed]",
            "text/plain": [
              "<Figure size 640x480 with 1 Axes>"
            ]
          },
          "metadata": {},
          "output_type": "display_data"
        }
      ],
      "source": [
        "data[\"CoapplicantIncome\"].hist()"
      ]
    },
    {
      "cell_type": "code",
      "execution_count": 40,
      "metadata": {
        "colab": {
          "base_uri": "https://localhost:8080/"
        },
        "id": "34NPHOWH8riU",
        "outputId": "40d672fa-df49-4a03-e558-66c3fdc89f32"
      },
      "outputs": [
        {
          "data": {
            "text/plain": [
              "(array([ 18,  26,  80,  82, 244, 335, 354, 361], dtype=int64),)"
            ]
          },
          "execution_count": 40,
          "metadata": {},
          "output_type": "execute_result"
        }
      ],
      "source": [
        "#LoanAmount\n",
        "missing_values = np.where((data)[\"LoanAmount\"].isnull()==True)\n",
        "missing_values"
      ]
    },
    {
      "cell_type": "code",
      "execution_count": 41,
      "metadata": {
        "colab": {
          "base_uri": "https://localhost:8080/"
        },
        "id": "knwYlLLs9i73",
        "outputId": "8b3de011-5482-4e22-a9d1-e8dbbaf129ef"
      },
      "outputs": [
        {
          "data": {
            "text/plain": [
              "105.0"
            ]
          },
          "execution_count": 41,
          "metadata": {},
          "output_type": "execute_result"
        }
      ],
      "source": [
        "#get mean\n",
        "mean= round((data)[\"LoanAmount\"].mean(),0)\n",
        "mean"
      ]
    },
    {
      "cell_type": "code",
      "execution_count": 42,
      "metadata": {
        "colab": {
          "base_uri": "https://localhost:8080/"
        },
        "id": "XVsuxkFo-K2v",
        "outputId": "90567ff6-fb48-4937-aee9-a07f5a4a7ef8"
      },
      "outputs": [
        {
          "data": {
            "text/plain": [
              "110.0"
            ]
          },
          "execution_count": 42,
          "metadata": {},
          "output_type": "execute_result"
        }
      ],
      "source": [
        "#get median\n",
        "median= round((data)[\"LoanAmount\"].median(),0)\n",
        "median"
      ]
    },
    {
      "cell_type": "code",
      "execution_count": 43,
      "metadata": {
        "colab": {
          "base_uri": "https://localhost:8080/"
        },
        "id": "8btP_NeF-rgb",
        "outputId": "8a31e539-92e1-40b8-f6fd-26a6ad341891"
      },
      "outputs": [
        {
          "name": "stderr",
          "output_type": "stream",
          "text": [
            "C:\\Users\\ASUS\\AppData\\Local\\Temp\\ipykernel_15140\\3721804286.py:2: FutureWarning: A value is trying to be set on a copy of a DataFrame or Series through chained assignment using an inplace method.\n",
            "The behavior will change in pandas 3.0. This inplace method will never work because the intermediate object on which we are setting values always behaves as a copy.\n",
            "\n",
            "For example, when doing 'df[col].method(value, inplace=True)', try using 'df.method({col: value}, inplace=True)' or df[col] = df[col].method(value) instead, to perform the operation inplace on the original object.\n",
            "\n",
            "\n",
            "  data[\"LoanAmount\"].fillna(mean,inplace=True)\n"
          ]
        },
        {
          "data": {
            "text/plain": [
              "0"
            ]
          },
          "execution_count": 43,
          "metadata": {},
          "output_type": "execute_result"
        }
      ],
      "source": [
        "#Fill missing values with mean\n",
        "data[\"LoanAmount\"].fillna(mean,inplace=True)\n",
        "data[\"LoanAmount\"].isnull().sum()"
      ]
    },
    {
      "cell_type": "code",
      "execution_count": 44,
      "metadata": {
        "colab": {
          "base_uri": "https://localhost:8080/",
          "height": 448
        },
        "id": "7BrB6SNt-46Q",
        "outputId": "dfe2379c-5828-4c48-9794-6a67e437fe7d"
      },
      "outputs": [
        {
          "data": {
            "text/plain": [
              "<Axes: >"
            ]
          },
          "execution_count": 44,
          "metadata": {},
          "output_type": "execute_result"
        },
        {
          "data": {
            "image/png": "[encoded data removed]",
            "text/plain": [
              "<Figure size 640x480 with 1 Axes>"
            ]
          },
          "metadata": {},
          "output_type": "display_data"
        }
      ],
      "source": [
        "data[\"LoanAmount\"].hist()"
      ]
    },
    {
      "cell_type": "code",
      "execution_count": 45,
      "metadata": {
        "colab": {
          "base_uri": "https://localhost:8080/"
        },
        "id": "TC_NDm6I9CP5",
        "outputId": "b117fd57-1d4d-4e7c-c9e0-a7f337b40f62"
      },
      "outputs": [
        {
          "data": {
            "text/plain": [
              "(array([ 13,  24,  31,  32,  53, 118, 143, 213, 231, 267, 269], dtype=int64),)"
            ]
          },
          "execution_count": 45,
          "metadata": {},
          "output_type": "execute_result"
        }
      ],
      "source": [
        "#Loan_Amount_Term\n",
        "missing_values = np.where((data)[\"Loan_Amount_Term\"].isnull()==True)\n",
        "missing_values"
      ]
    },
    {
      "cell_type": "code",
      "execution_count": 46,
      "metadata": {
        "colab": {
          "base_uri": "https://localhost:8080/"
        },
        "id": "cz0Ye30e_WZn",
        "outputId": "730609b7-2138-4a7c-b3d6-66c64f433cf7"
      },
      "outputs": [
        {
          "data": {
            "text/plain": [
              "341.0"
            ]
          },
          "execution_count": 46,
          "metadata": {},
          "output_type": "execute_result"
        }
      ],
      "source": [
        "#get mean\n",
        "mean= round((data)[\"Loan_Amount_Term\"].mean(),0)\n",
        "mean"
      ]
    },
    {
      "cell_type": "code",
      "execution_count": 47,
      "metadata": {
        "colab": {
          "base_uri": "https://localhost:8080/"
        },
        "id": "TTH08WyQ_eJN",
        "outputId": "018fe9f2-3940-43e8-9100-4297a9b34f12"
      },
      "outputs": [
        {
          "data": {
            "text/plain": [
              "360.0"
            ]
          },
          "execution_count": 47,
          "metadata": {},
          "output_type": "execute_result"
        }
      ],
      "source": [
        "#get median\n",
        "median= round((data)[\"Loan_Amount_Term\"].median(),0)\n",
        "median"
      ]
    },
    {
      "cell_type": "code",
      "execution_count": 48,
      "metadata": {
        "colab": {
          "base_uri": "https://localhost:8080/"
        },
        "id": "LTUGS62X_rFv",
        "outputId": "74e0200d-924a-4a43-961f-d7c9feae49e6"
      },
      "outputs": [
        {
          "name": "stderr",
          "output_type": "stream",
          "text": [
            "C:\\Users\\ASUS\\AppData\\Local\\Temp\\ipykernel_15140\\1198976073.py:2: FutureWarning: A value is trying to be set on a copy of a DataFrame or Series through chained assignment using an inplace method.\n",
            "The behavior will change in pandas 3.0. This inplace method will never work because the intermediate object on which we are setting values always behaves as a copy.\n",
            "\n",
            "For example, when doing 'df[col].method(value, inplace=True)', try using 'df.method({col: value}, inplace=True)' or df[col] = df[col].method(value) instead, to perform the operation inplace on the original object.\n",
            "\n",
            "\n",
            "  data[\"Loan_Amount_Term\"].fillna(mean,inplace=True)\n"
          ]
        },
        {
          "data": {
            "text/plain": [
              "0"
            ]
          },
          "execution_count": 48,
          "metadata": {},
          "output_type": "execute_result"
        }
      ],
      "source": [
        "#Fill missing values with mean\n",
        "data[\"Loan_Amount_Term\"].fillna(mean,inplace=True)\n",
        "data[\"Loan_Amount_Term\"].isnull().sum()"
      ]
    },
    {
      "cell_type": "code",
      "execution_count": 49,
      "metadata": {
        "colab": {
          "base_uri": "https://localhost:8080/",
          "height": 448
        },
        "id": "rMYG95Uo_4wX",
        "outputId": "73492da1-e06f-49d6-fe92-e887fefa4bb5"
      },
      "outputs": [
        {
          "data": {
            "text/plain": [
              "<Axes: >"
            ]
          },
          "execution_count": 49,
          "metadata": {},
          "output_type": "execute_result"
        },
        {
          "data": {
            "image/png": "[encoded data removed]",
            "text/plain": [
              "<Figure size 640x480 with 1 Axes>"
            ]
          },
          "metadata": {},
          "output_type": "display_data"
        }
      ],
      "source": [
        "data[\"Loan_Amount_Term\"].hist()"
      ]
    },
    {
      "cell_type": "code",
      "execution_count": 50,
      "metadata": {
        "colab": {
          "base_uri": "https://localhost:8080/"
        },
        "id": "i5jfVJJC9EXR",
        "outputId": "f6ff3015-c5f5-4b1e-e0aa-649ad06dec81"
      },
      "outputs": [
        {
          "data": {
            "text/plain": [
              "(array([ 10,  29,  56,  60,  77,  81, 110, 114, 119, 135, 145, 161, 174,\n",
              "        199, 202, 203, 206, 227, 236, 246, 249, 287, 303, 310, 315, 319,\n",
              "        344, 351, 354, 366], dtype=int64),)"
            ]
          },
          "execution_count": 50,
          "metadata": {},
          "output_type": "execute_result"
        }
      ],
      "source": [
        "#Credit_History\n",
        "#Loan_Amount_Term\n",
        "missing_values = np.where((data)[\"Credit_History\"].isnull()==True)\n",
        "missing_values"
      ]
    },
    {
      "cell_type": "code",
      "execution_count": 51,
      "metadata": {
        "colab": {
          "base_uri": "https://localhost:8080/"
        },
        "id": "Q-3xE8CMAHw4",
        "outputId": "92baa14c-246b-416e-f0b0-ddad217b7c15"
      },
      "outputs": [
        {
          "data": {
            "text/plain": [
              "1.0"
            ]
          },
          "execution_count": 51,
          "metadata": {},
          "output_type": "execute_result"
        }
      ],
      "source": [
        "mean= round((data)[\"Credit_History\"].mean(),0)\n",
        "mean"
      ]
    },
    {
      "cell_type": "code",
      "execution_count": 52,
      "metadata": {
        "colab": {
          "base_uri": "https://localhost:8080/"
        },
        "id": "pXpZKGhtAlAw",
        "outputId": "0e7c39f1-c671-4af1-92a6-6dcd98e383f7"
      },
      "outputs": [
        {
          "data": {
            "text/plain": [
              "1.0"
            ]
          },
          "execution_count": 52,
          "metadata": {},
          "output_type": "execute_result"
        }
      ],
      "source": [
        "median = round((data)[\"Credit_History\"].mean(),0)\n",
        "median"
      ]
    },
    {
      "cell_type": "code",
      "execution_count": 53,
      "metadata": {
        "colab": {
          "base_uri": "https://localhost:8080/"
        },
        "id": "GTyQUXV0AxNt",
        "outputId": "2b2ff863-79cc-42f5-e152-a5a1ab6bfdd2"
      },
      "outputs": [
        {
          "name": "stderr",
          "output_type": "stream",
          "text": [
            "C:\\Users\\ASUS\\AppData\\Local\\Temp\\ipykernel_15140\\238152939.py:1: FutureWarning: A value is trying to be set on a copy of a DataFrame or Series through chained assignment using an inplace method.\n",
            "The behavior will change in pandas 3.0. This inplace method will never work because the intermediate object on which we are setting values always behaves as a copy.\n",
            "\n",
            "For example, when doing 'df[col].method(value, inplace=True)', try using 'df.method({col: value}, inplace=True)' or df[col] = df[col].method(value) instead, to perform the operation inplace on the original object.\n",
            "\n",
            "\n",
            "  data[\"Credit_History\"].fillna(mean,inplace= True)\n"
          ]
        },
        {
          "data": {
            "text/plain": [
              "0"
            ]
          },
          "execution_count": 53,
          "metadata": {},
          "output_type": "execute_result"
        }
      ],
      "source": [
        "data[\"Credit_History\"].fillna(mean,inplace= True)\n",
        "data[\"Credit_History\"].isnull().sum()"
      ]
    },
    {
      "cell_type": "code",
      "execution_count": 54,
      "metadata": {
        "colab": {
          "base_uri": "https://localhost:8080/",
          "height": 448
        },
        "id": "MaN94UXYBNoL",
        "outputId": "b008cd5c-5458-4edf-96d4-aa8532680289"
      },
      "outputs": [
        {
          "data": {
            "text/plain": [
              "<Axes: >"
            ]
          },
          "execution_count": 54,
          "metadata": {},
          "output_type": "execute_result"
        },
        {
          "data": {
            "image/png": "[encoded data removed]",
            "text/plain": [
              "<Figure size 640x480 with 1 Axes>"
            ]
          },
          "metadata": {},
          "output_type": "display_data"
        }
      ],
      "source": [
        "data[\"Credit_History\"].hist()"
      ]
    },
    {
      "cell_type": "markdown",
      "metadata": {
        "id": "AG6F-xursnIp"
      },
      "source": [
        "### *Transformation*"
      ]
    },
    {
      "cell_type": "code",
      "execution_count": 55,
      "metadata": {
        "colab": {
          "base_uri": "https://localhost:8080/",
          "height": 143
        },
        "id": "Kb4nnImBB4qh",
        "outputId": "ae16863a-e38d-4fa3-d10f-3ec04674d09f"
      },
      "outputs": [
        {
          "data": {
            "text/html": [
              "<div>\n",
              "<style scoped>\n",
              "    .dataframe tbody tr th:only-of-type {\n",
              "        vertical-align: middle;\n",
              "    }\n",
              "\n",
              "    .dataframe tbody tr th {\n",
              "        vertical-align: top;\n",
              "    }\n",
              "\n",
              "    .dataframe thead th {\n",
              "        text-align: right;\n",
              "    }\n",
              "</style>\n",
              "<table border=\"1\" class=\"dataframe\">\n",
              "  <thead>\n",
              "    <tr style=\"text-align: right;\">\n",
              "      <th></th>\n",
              "      <th>counts</th>\n",
              "      <th>freqs</th>\n",
              "    </tr>\n",
              "    <tr>\n",
              "      <th>categories</th>\n",
              "      <th></th>\n",
              "      <th></th>\n",
              "    </tr>\n",
              "  </thead>\n",
              "  <tbody>\n",
              "    <tr>\n",
              "      <th>Yes</th>\n",
              "      <td>57</td>\n",
              "      <td>0.149606</td>\n",
              "    </tr>\n",
              "    <tr>\n",
              "      <th>No</th>\n",
              "      <td>324</td>\n",
              "      <td>0.850394</td>\n",
              "    </tr>\n",
              "  </tbody>\n",
              "</table>\n",
              "</div>"
            ],
            "text/plain": [
              "            counts     freqs\n",
              "categories                  \n",
              "Yes             57  0.149606\n",
              "No             324  0.850394"
            ]
          },
          "execution_count": 55,
          "metadata": {},
          "output_type": "execute_result"
        }
      ],
      "source": [
        "#conside Credit_History with 0 or 1\n",
        "new_Credit_History = pd.Categorical(data[\"Credit_History\"])\n",
        "new_Credit_History = new_Credit_History.rename_categories([\"Yes\", \"No\"])\n",
        "new_Credit_History.describe()"
      ]
    },
    {
      "cell_type": "code",
      "execution_count": 56,
      "metadata": {
        "colab": {
          "base_uri": "https://localhost:8080/"
        },
        "id": "Ngwz-1SyB5Vb",
        "outputId": "3ebc2b2d-00fd-4852-e167-249fc506a53e"
      },
      "outputs": [
        {
          "data": {
            "text/plain": [
              "count    381.000000\n",
              "mean       0.850394\n",
              "std        0.357154\n",
              "min        0.000000\n",
              "25%        1.000000\n",
              "50%        1.000000\n",
              "75%        1.000000\n",
              "max        1.000000\n",
              "Name: Credit_History, dtype: float64"
            ]
          },
          "execution_count": 56,
          "metadata": {},
          "output_type": "execute_result"
        }
      ],
      "source": [
        "data[\"Credit_History\"].describe()"
      ]
    },
    {
      "cell_type": "code",
      "execution_count": 57,
      "metadata": {
        "id": "cFNl4deeFObn"
      },
      "outputs": [],
      "source": [
        "#data = data.dropna(subset=[\"Dependents\"])"
      ]
    },
    {
      "cell_type": "code",
      "execution_count": 58,
      "metadata": {
        "colab": {
          "base_uri": "https://localhost:8080/",
          "height": 237
        },
        "id": "LMsGaXSB-SOg",
        "outputId": "6511ebf9-c4e3-4f63-a0e3-93ed5386f08b"
      },
      "outputs": [
        {
          "data": {
            "text/html": [
              "<div>\n",
              "<style scoped>\n",
              "    .dataframe tbody tr th:only-of-type {\n",
              "        vertical-align: middle;\n",
              "    }\n",
              "\n",
              "    .dataframe tbody tr th {\n",
              "        vertical-align: top;\n",
              "    }\n",
              "\n",
              "    .dataframe thead th {\n",
              "        text-align: right;\n",
              "    }\n",
              "</style>\n",
              "<table border=\"1\" class=\"dataframe\">\n",
              "  <thead>\n",
              "    <tr style=\"text-align: right;\">\n",
              "      <th></th>\n",
              "      <th>counts</th>\n",
              "      <th>freqs</th>\n",
              "    </tr>\n",
              "    <tr>\n",
              "      <th>categories</th>\n",
              "      <th></th>\n",
              "      <th></th>\n",
              "    </tr>\n",
              "  </thead>\n",
              "  <tbody>\n",
              "    <tr>\n",
              "      <th>0</th>\n",
              "      <td>234</td>\n",
              "      <td>0.614173</td>\n",
              "    </tr>\n",
              "    <tr>\n",
              "      <th>1</th>\n",
              "      <td>52</td>\n",
              "      <td>0.136483</td>\n",
              "    </tr>\n",
              "    <tr>\n",
              "      <th>2</th>\n",
              "      <td>59</td>\n",
              "      <td>0.154856</td>\n",
              "    </tr>\n",
              "    <tr>\n",
              "      <th>3+</th>\n",
              "      <td>28</td>\n",
              "      <td>0.073491</td>\n",
              "    </tr>\n",
              "    <tr>\n",
              "      <th>NaN</th>\n",
              "      <td>8</td>\n",
              "      <td>0.020997</td>\n",
              "    </tr>\n",
              "  </tbody>\n",
              "</table>\n",
              "</div>"
            ],
            "text/plain": [
              "            counts     freqs\n",
              "categories                  \n",
              "0              234  0.614173\n",
              "1               52  0.136483\n",
              "2               59  0.154856\n",
              "3+              28  0.073491\n",
              "NaN              8  0.020997"
            ]
          },
          "execution_count": 58,
          "metadata": {},
          "output_type": "execute_result"
        }
      ],
      "source": [
        "#conside Gender with 0 , 1 ,2,3+\n",
        "new_Gender = pd.Categorical(data[\"Dependents\"]) #dropna is method of pands is used to remove missing values\n",
        "new_Gender =new_Gender.rename_categories([\"0\", \"1\", \"2\", \"3+\",])\n",
        "new_Gender.describe()"
      ]
    },
    {
      "cell_type": "markdown",
      "metadata": {
        "id": "MPx-2i5nmKxo"
      },
      "source": [
        "### *Feature Selection*"
      ]
    },
    {
      "cell_type": "markdown",
      "metadata": {
        "id": "gHIVqdoXoCcM"
      },
      "source": [
        "### *Variance*"
      ]
    },
    {
      "cell_type": "markdown",
      "metadata": {
        "id": "Mgt-2HIo33Rd"
      },
      "source": [
        "# **Data Mining**"
      ]
    },
    {
      "cell_type": "markdown",
      "metadata": {
        "id": "0Udb4DpF39nd"
      },
      "source": [
        "##**K-mean**"
      ]
    },
    {
      "cell_type": "code",
      "execution_count": 59,
      "metadata": {
        "colab": {
          "base_uri": "https://localhost:8080/",
          "height": 423
        },
        "id": "ia_hVbHF3290",
        "outputId": "a188a854-d18e-419c-8061-f9949e2244df"
      },
      "outputs": [
        {
          "data": {
            "text/html": [
              "<div>\n",
              "<style scoped>\n",
              "    .dataframe tbody tr th:only-of-type {\n",
              "        vertical-align: middle;\n",
              "    }\n",
              "\n",
              "    .dataframe tbody tr th {\n",
              "        vertical-align: top;\n",
              "    }\n",
              "\n",
              "    .dataframe thead th {\n",
              "        text-align: right;\n",
              "    }\n",
              "</style>\n",
              "<table border=\"1\" class=\"dataframe\">\n",
              "  <thead>\n",
              "    <tr style=\"text-align: right;\">\n",
              "      <th></th>\n",
              "      <th>ApplicantIncome</th>\n",
              "      <th>LoanAmount</th>\n",
              "    </tr>\n",
              "  </thead>\n",
              "  <tbody>\n",
              "    <tr>\n",
              "      <th>0</th>\n",
              "      <td>4583.0</td>\n",
              "      <td>128.0</td>\n",
              "    </tr>\n",
              "    <tr>\n",
              "      <th>1</th>\n",
              "      <td>3000.0</td>\n",
              "      <td>66.0</td>\n",
              "    </tr>\n",
              "    <tr>\n",
              "      <th>2</th>\n",
              "      <td>2583.0</td>\n",
              "      <td>120.0</td>\n",
              "    </tr>\n",
              "    <tr>\n",
              "      <th>3</th>\n",
              "      <td>6000.0</td>\n",
              "      <td>141.0</td>\n",
              "    </tr>\n",
              "    <tr>\n",
              "      <th>4</th>\n",
              "      <td>2333.0</td>\n",
              "      <td>95.0</td>\n",
              "    </tr>\n",
              "    <tr>\n",
              "      <th>...</th>\n",
              "      <td>...</td>\n",
              "      <td>...</td>\n",
              "    </tr>\n",
              "    <tr>\n",
              "      <th>376</th>\n",
              "      <td>5703.0</td>\n",
              "      <td>128.0</td>\n",
              "    </tr>\n",
              "    <tr>\n",
              "      <th>377</th>\n",
              "      <td>3232.0</td>\n",
              "      <td>108.0</td>\n",
              "    </tr>\n",
              "    <tr>\n",
              "      <th>378</th>\n",
              "      <td>2900.0</td>\n",
              "      <td>71.0</td>\n",
              "    </tr>\n",
              "    <tr>\n",
              "      <th>379</th>\n",
              "      <td>4106.0</td>\n",
              "      <td>40.0</td>\n",
              "    </tr>\n",
              "    <tr>\n",
              "      <th>380</th>\n",
              "      <td>4583.0</td>\n",
              "      <td>133.0</td>\n",
              "    </tr>\n",
              "  </tbody>\n",
              "</table>\n",
              "<p>381 rows × 2 columns</p>\n",
              "</div>"
            ],
            "text/plain": [
              "     ApplicantIncome  LoanAmount\n",
              "0             4583.0       128.0\n",
              "1             3000.0        66.0\n",
              "2             2583.0       120.0\n",
              "3             6000.0       141.0\n",
              "4             2333.0        95.0\n",
              "..               ...         ...\n",
              "376           5703.0       128.0\n",
              "377           3232.0       108.0\n",
              "378           2900.0        71.0\n",
              "379           4106.0        40.0\n",
              "380           4583.0       133.0\n",
              "\n",
              "[381 rows x 2 columns]"
            ]
          },
          "execution_count": 59,
          "metadata": {},
          "output_type": "execute_result"
        }
      ],
      "source": [
        "#take neccesary columns\n",
        "data = data[['ApplicantIncome','LoanAmount']]\n",
        "data"
      ]
    },
    {
      "cell_type": "code",
      "execution_count": 75,
      "metadata": {
        "colab": {
          "base_uri": "https://localhost:8080/",
          "height": 448
        },
        "id": "FXG1-ZCIQrke",
        "outputId": "7c568e1a-f1d1-4bae-bec8-8390b7724062"
      },
      "outputs": [
        {
          "data": {
            "text/plain": [
              "<matplotlib.collections.PathCollection at 0x2ba12804b50>"
            ]
          },
          "execution_count": 75,
          "metadata": {},
          "output_type": "execute_result"
        },
        {
          "data": {
            "image/png": "[encoded data removed]",
            "text/plain": [
              "<Figure size 640x480 with 1 Axes>"
            ]
          },
          "metadata": {},
          "output_type": "display_data"
        }
      ],
      "source": [
        "plt.scatter(data['ApplicantIncome'],data['LoanAmount'])"
      ]
    },
    {
      "cell_type": "code",
      "execution_count": 76,
      "metadata": {
        "colab": {
          "base_uri": "https://localhost:8080/"
        },
        "collapsed": true,
        "id": "fhkJeczHXU4U",
        "outputId": "7659d754-9c7e-4a90-a9ad-eb542f5eb86d"
      },
      "outputs": [],
      "source": [
        "from sklearn.cluster import KMeans\n",
        "k_values = [1,2,3,4,5]\n",
        "WCSS =[]\n",
        "#to check the k_values one by one\n",
        "for k in k_values:\n",
        "  model = KMeans(n_clusters=k)\n",
        "  model.fit(data[['ApplicantIncome','LoanAmount']])\n",
        "  WCSS.append (model.inertia_)"
      ]
    },
    {
      "cell_type": "code",
      "execution_count": 77,
      "metadata": {
        "colab": {
          "base_uri": "https://localhost:8080/",
          "height": 483
        },
        "id": "AGWFvdECdwRD",
        "outputId": "82b509de-d81f-433e-f617-c66b4474ec6f"
      },
      "outputs": [
        {
          "data": {
            "text/plain": [
              "[<matplotlib.lines.Line2D at 0x2ba1283f070>]"
            ]
          },
          "execution_count": 77,
          "metadata": {},
          "output_type": "execute_result"
        },
        {
          "data": {
            "image/png": "[encoded data removed]",
            "text/plain": [
              "<Figure size 640x480 with 1 Axes>"
            ]
          },
          "metadata": {},
          "output_type": "display_data"
        }
      ],
      "source": [
        "#get elbow method\n",
        "plt.xlabel(\"Number of clustes\")\n",
        "plt.ylabel(\"WCSS\")\n",
        "plt.plot(k_values,WCSS)"
      ]
    },
    {
      "cell_type": "code",
      "execution_count": 78,
      "metadata": {
        "colab": {
          "base_uri": "https://localhost:8080/"
        },
        "id": "qlAuiVIlfKcT",
        "outputId": "f5419976-34ff-4e3b-a5cf-c7ad5858a8df"
      },
      "outputs": [
        {
          "data": {
            "text/plain": [
              "array([2, 0, 0, 1, 0, 0, 0, 0, 0, 2, 2, 2, 2, 0, 1, 0, 2, 0, 2, 0, 2, 0,\n",
              "       2, 2, 0, 2, 2, 2, 0, 0, 2, 2, 2, 1, 1, 0, 2, 0, 0, 2, 2, 0, 0, 2,\n",
              "       2, 0, 0, 2, 0, 1, 2, 0, 2, 2, 2, 0, 2, 2, 2, 0, 2, 0, 0, 2, 2, 2,\n",
              "       0, 0, 2, 0, 2, 0, 1, 0, 1, 0, 2, 0, 2, 0, 0, 2, 0, 0, 2, 2, 2, 2,\n",
              "       2, 0, 0, 0, 2, 1, 0, 2, 0, 0, 0, 1, 2, 0, 0, 0, 2, 2, 2, 0, 2, 0,\n",
              "       0, 2, 2, 0, 0, 2, 2, 2, 0, 2, 0, 2, 2, 2, 2, 2, 0, 2, 2, 1, 0, 2,\n",
              "       0, 2, 2, 2, 0, 2, 0, 1, 2, 0, 2, 0, 0, 2, 2, 2, 1, 0, 1, 2, 1, 1,\n",
              "       1, 0, 0, 2, 0, 1, 2, 2, 0, 1, 2, 2, 2, 0, 2, 2, 0, 2, 0, 0, 2, 2,\n",
              "       0, 0, 0, 0, 2, 2, 0, 2, 0, 1, 2, 2, 0, 0, 0, 2, 0, 2, 2, 0, 0, 0,\n",
              "       0, 1, 2, 2, 0, 2, 0, 2, 0, 2, 2, 0, 2, 0, 0, 1, 2, 0, 0, 0, 0, 0,\n",
              "       2, 0, 2, 2, 0, 2, 2, 0, 1, 1, 0, 2, 0, 0, 2, 1, 2, 0, 1, 2, 1, 2,\n",
              "       2, 0, 0, 2, 0, 0, 0, 2, 0, 0, 2, 0, 0, 0, 0, 0, 2, 0, 0, 2, 0, 0,\n",
              "       0, 2, 1, 0, 0, 1, 0, 2, 1, 0, 0, 1, 1, 0, 2, 0, 1, 2, 2, 2, 2, 2,\n",
              "       0, 0, 2, 0, 1, 2, 2, 2, 1, 2, 2, 1, 0, 0, 2, 0, 2, 0, 0, 0, 0, 0,\n",
              "       2, 2, 0, 2, 2, 2, 0, 2, 0, 0, 0, 2, 2, 2, 2, 2, 0, 2, 0, 0, 2, 0,\n",
              "       0, 1, 2, 0, 1, 2, 2, 2, 2, 0, 2, 0, 2, 0, 0, 2, 0, 2, 0, 2, 1, 0,\n",
              "       2, 1, 2, 2, 2, 0, 0, 1, 0, 0, 2, 0, 0, 0, 0, 0, 0, 0, 2, 0, 0, 2,\n",
              "       2, 0, 1, 2, 0, 2, 2])"
            ]
          },
          "execution_count": 78,
          "metadata": {},
          "output_type": "execute_result"
        }
      ],
      "source": [
        "model = KMeans(n_clusters=3)\n",
        "pred = model.fit_predict(data)\n",
        "pred"
      ]
    },
    {
      "cell_type": "code",
      "execution_count": 79,
      "metadata": {
        "colab": {
          "base_uri": "https://localhost:8080/",
          "height": 206
        },
        "id": "B4I11_YuhqR7",
        "outputId": "09d508c4-f45f-421e-b971-c1d6d15e13a6"
      },
      "outputs": [
        {
          "data": {
            "text/html": [
              "<div>\n",
              "<style scoped>\n",
              "    .dataframe tbody tr th:only-of-type {\n",
              "        vertical-align: middle;\n",
              "    }\n",
              "\n",
              "    .dataframe tbody tr th {\n",
              "        vertical-align: top;\n",
              "    }\n",
              "\n",
              "    .dataframe thead th {\n",
              "        text-align: right;\n",
              "    }\n",
              "</style>\n",
              "<table border=\"1\" class=\"dataframe\">\n",
              "  <thead>\n",
              "    <tr style=\"text-align: right;\">\n",
              "      <th></th>\n",
              "      <th>ApplicantIncome</th>\n",
              "      <th>LoanAmount</th>\n",
              "      <th>clusters</th>\n",
              "    </tr>\n",
              "  </thead>\n",
              "  <tbody>\n",
              "    <tr>\n",
              "      <th>0</th>\n",
              "      <td>4583.0</td>\n",
              "      <td>128.0</td>\n",
              "      <td>2</td>\n",
              "    </tr>\n",
              "    <tr>\n",
              "      <th>1</th>\n",
              "      <td>3000.0</td>\n",
              "      <td>66.0</td>\n",
              "      <td>0</td>\n",
              "    </tr>\n",
              "    <tr>\n",
              "      <th>2</th>\n",
              "      <td>2583.0</td>\n",
              "      <td>120.0</td>\n",
              "      <td>0</td>\n",
              "    </tr>\n",
              "    <tr>\n",
              "      <th>3</th>\n",
              "      <td>6000.0</td>\n",
              "      <td>141.0</td>\n",
              "      <td>1</td>\n",
              "    </tr>\n",
              "    <tr>\n",
              "      <th>4</th>\n",
              "      <td>2333.0</td>\n",
              "      <td>95.0</td>\n",
              "      <td>0</td>\n",
              "    </tr>\n",
              "  </tbody>\n",
              "</table>\n",
              "</div>"
            ],
            "text/plain": [
              "   ApplicantIncome  LoanAmount  clusters\n",
              "0           4583.0       128.0         2\n",
              "1           3000.0        66.0         0\n",
              "2           2583.0       120.0         0\n",
              "3           6000.0       141.0         1\n",
              "4           2333.0        95.0         0"
            ]
          },
          "execution_count": 79,
          "metadata": {},
          "output_type": "execute_result"
        }
      ],
      "source": [
        "#add clusters column\n",
        "data['clusters'] = pred\n",
        "data.head(5)"
      ]
    },
    {
      "cell_type": "code",
      "execution_count": 80,
      "metadata": {
        "id": "_6IaaCUMjtXk"
      },
      "outputs": [],
      "source": [
        "#get all the clusters\n",
        "c1=data[data['clusters']==0]\n",
        "c2=data[data['clusters']==1]\n",
        "c3=data[data['clusters']==2]\n"
      ]
    },
    {
      "cell_type": "code",
      "execution_count": 66,
      "metadata": {
        "colab": {
          "base_uri": "https://localhost:8080/",
          "height": 448
        },
        "id": "fkwpB7CyipJM",
        "outputId": "154b6da2-b29a-4f55-a89d-298267c1ce44"
      },
      "outputs": [
        {
          "data": {
            "text/plain": [
              "<matplotlib.collections.PathCollection at 0x2ba110d6620>"
            ]
          },
          "execution_count": 66,
          "metadata": {},
          "output_type": "execute_result"
        },
        {
          "data": {
            "image/png": "[encoded data removed]",
            "text/plain": [
              "<Figure size 640x480 with 1 Axes>"
            ]
          },
          "metadata": {},
          "output_type": "display_data"
        }
      ],
      "source": [
        "#all the clusters with center points\n",
        "plt.scatter(c1[\"ApplicantIncome\"],c1[\"LoanAmount\"])\n",
        "plt.scatter(c2[\"ApplicantIncome\"],c2[\"LoanAmount\"])\n",
        "plt.scatter(c3[\"ApplicantIncome\"],c3[\"LoanAmount\"])\n",
        "\n",
        "plt.scatter(model.cluster_centers_[:,0],model.cluster_centers_[:,1],color = \"black\")"
      ]
    },
    {
      "cell_type": "markdown",
      "metadata": {
        "id": "vC8Za4l2xuYo"
      },
      "source": [
        "## **Hierarchical clustering**"
      ]
    },
    {
      "cell_type": "code",
      "execution_count": 67,
      "metadata": {
        "colab": {
          "base_uri": "https://localhost:8080/",
          "height": 448
        },
        "id": "tyf9JoIgxSUC",
        "outputId": "6ff03544-a763-44f5-a3a5-fd4ab8702700"
      },
      "outputs": [
        {
          "data": {
            "text/plain": [
              "<matplotlib.collections.PathCollection at 0x2ba1114ee90>"
            ]
          },
          "execution_count": 67,
          "metadata": {},
          "output_type": "execute_result"
        },
        {
          "data": {
            "image/png": "[encoded data removed]",
            "text/plain": [
              "<Figure size 640x480 with 1 Axes>"
            ]
          },
          "metadata": {},
          "output_type": "display_data"
        }
      ],
      "source": [
        "plt.scatter(data['ApplicantIncome'],data['LoanAmount'])\n",
        "#plt.scatter(data['ApplicantIncome'],data['LoanAmount'])"
      ]
    },
    {
      "cell_type": "code",
      "execution_count": 68,
      "metadata": {
        "colab": {
          "base_uri": "https://localhost:8080/",
          "height": 429
        },
        "id": "90T0dmc21FjW",
        "outputId": "63f9747a-2c6b-4aaa-bc00-8676cffad755"
      },
      "outputs": [
        {
          "data": {
            "image/png": "[encoded data removed]",
            "text/plain": [
              "<Figure size 640x480 with 1 Axes>"
            ]
          },
          "metadata": {},
          "output_type": "display_data"
        }
      ],
      "source": [
        "#represent in dendogram\n",
        "import scipy.cluster.hierarchy as sc\n",
        "#plt.figure(figsize=(50,40))\n",
        "dendogram = sc.dendrogram(sc.linkage(data[['ApplicantIncome','LoanAmount']],method=\"ward\"))"
      ]
    },
    {
      "cell_type": "code",
      "execution_count": 69,
      "metadata": {
        "colab": {
          "base_uri": "https://localhost:8080/"
        },
        "collapsed": true,
        "id": "_eOsngRQ6p-D",
        "outputId": "9c05bd76-9bc5-4992-f641-e82935cd6e65"
      },
      "outputs": [
        {
          "ename": "TypeError",
          "evalue": "AgglomerativeClustering.__init__() got an unexpected keyword argument 'affinity'",
          "output_type": "error",
          "traceback": [
            "\u001b[1;31m---------------------------------------------------------------------------\u001b[0m",
            "\u001b[1;31mTypeError\u001b[0m                                 Traceback (most recent call last)",
            "Cell \u001b[1;32mIn[69], line 3\u001b[0m\n\u001b[0;32m      1\u001b[0m \u001b[38;5;66;03m#train a model to predict distence\u001b[39;00m\n\u001b[0;32m      2\u001b[0m \u001b[38;5;28;01mfrom\u001b[39;00m\u001b[38;5;250m \u001b[39m\u001b[38;5;21;01msklearn\u001b[39;00m\u001b[38;5;21;01m.\u001b[39;00m\u001b[38;5;21;01mcluster\u001b[39;00m\u001b[38;5;250m \u001b[39m\u001b[38;5;28;01mimport\u001b[39;00m AgglomerativeClustering\n\u001b[1;32m----> 3\u001b[0m model \u001b[38;5;241m=\u001b[39m \u001b[43mAgglomerativeClustering\u001b[49m\u001b[43m(\u001b[49m\u001b[43mn_clusters\u001b[49m\u001b[38;5;241;43m=\u001b[39;49m\u001b[38;5;241;43m3\u001b[39;49m\u001b[43m,\u001b[49m\u001b[43m \u001b[49m\u001b[43maffinity\u001b[49m\u001b[38;5;241;43m=\u001b[39;49m\u001b[38;5;124;43m'\u001b[39;49m\u001b[38;5;124;43meuclidean\u001b[39;49m\u001b[38;5;124;43m'\u001b[39;49m\u001b[43m,\u001b[49m\u001b[43mlinkage\u001b[49m\u001b[38;5;241;43m=\u001b[39;49m\u001b[38;5;124;43m'\u001b[39;49m\u001b[38;5;124;43mward\u001b[39;49m\u001b[38;5;124;43m'\u001b[39;49m\u001b[43m)\u001b[49m\n\u001b[0;32m      4\u001b[0m pred \u001b[38;5;241m=\u001b[39m model\u001b[38;5;241m.\u001b[39mfit_predict(data[[\u001b[38;5;124m'\u001b[39m\u001b[38;5;124mApplicantIncome\u001b[39m\u001b[38;5;124m'\u001b[39m,\u001b[38;5;124m'\u001b[39m\u001b[38;5;124mLoanAmount\u001b[39m\u001b[38;5;124m'\u001b[39m]])\n",
            "\u001b[1;31mTypeError\u001b[0m: AgglomerativeClustering.__init__() got an unexpected keyword argument 'affinity'"
          ]
        }
      ],
      "source": [
        "#train a model to predict distence\n",
        "from sklearn.cluster import AgglomerativeClustering\n",
        "model = AgglomerativeClustering(n_clusters=3, affinity='euclidean',linkage='ward')\n",
        "pred = model.fit_predict(data[['ApplicantIncome','LoanAmount']])"
      ]
    },
    {
      "cell_type": "code",
      "execution_count": null,
      "metadata": {
        "colab": {
          "base_uri": "https://localhost:8080/"
        },
        "id": "0zSMPt5e8fYd",
        "outputId": "d1141fbc-e0fa-4b7a-c0b3-9da9bc4808ed"
      },
      "outputs": [
        {
          "data": {
            "text/plain": [
              "array([0, 0, 2, 1, 2, 0, 2, 2, 2, 0, 0, 0, 0, 2, 1, 2, 0, 2, 0, 2, 0, 0,\n",
              "       0, 0, 2, 0, 0, 0, 2, 2, 0, 0, 0, 1, 1, 2, 0, 2, 0, 0, 0, 2, 2, 0,\n",
              "       0, 2, 0, 0, 0, 1, 0, 2, 0, 0, 0, 2, 0, 0, 0, 2, 0, 2, 0, 0, 0, 0,\n",
              "       2, 2, 0, 2, 0, 0, 1, 2, 0, 0, 0, 2, 0, 2, 0, 0, 2, 2, 0, 0, 0, 0,\n",
              "       0, 2, 2, 2, 0, 1, 2, 0, 0, 2, 0, 1, 0, 2, 2, 2, 0, 0, 0, 2, 0, 2,\n",
              "       2, 0, 0, 2, 2, 0, 0, 0, 2, 0, 2, 0, 0, 0, 0, 0, 2, 0, 0, 1, 0, 0,\n",
              "       2, 0, 0, 0, 2, 0, 0, 1, 0, 2, 0, 0, 0, 0, 0, 0, 1, 2, 1, 0, 1, 1,\n",
              "       1, 0, 2, 0, 2, 1, 0, 0, 2, 1, 0, 0, 0, 0, 0, 0, 2, 0, 2, 0, 0, 0,\n",
              "       2, 2, 0, 2, 0, 0, 0, 0, 0, 0, 0, 0, 2, 2, 0, 0, 2, 0, 0, 2, 0, 0,\n",
              "       2, 1, 0, 0, 2, 0, 2, 0, 0, 0, 0, 2, 0, 0, 0, 0, 0, 2, 0, 2, 0, 2,\n",
              "       0, 2, 0, 0, 0, 0, 0, 0, 1, 1, 2, 0, 0, 2, 0, 1, 0, 0, 0, 0, 1, 0,\n",
              "       0, 2, 2, 0, 2, 2, 0, 0, 0, 0, 0, 2, 0, 2, 2, 2, 0, 2, 2, 0, 2, 0,\n",
              "       2, 0, 1, 2, 2, 1, 2, 0, 1, 0, 2, 1, 1, 2, 0, 2, 1, 0, 0, 0, 0, 0,\n",
              "       2, 2, 0, 2, 1, 0, 0, 0, 1, 0, 0, 1, 0, 2, 0, 2, 0, 2, 0, 0, 2, 2,\n",
              "       0, 0, 2, 0, 0, 0, 2, 0, 0, 2, 0, 0, 0, 0, 0, 0, 2, 0, 2, 0, 0, 2,\n",
              "       2, 1, 0, 2, 1, 0, 0, 0, 0, 0, 0, 2, 0, 2, 0, 0, 2, 0, 2, 0, 0, 2,\n",
              "       0, 1, 0, 0, 0, 2, 0, 1, 0, 0, 0, 2, 2, 0, 2, 2, 2, 2, 0, 2, 0, 0,\n",
              "       0, 0, 1, 0, 0, 0, 0])"
            ]
          },
          "execution_count": 180,
          "metadata": {},
          "output_type": "execute_result"
        }
      ],
      "source": [
        "#prediction\n",
        "pred"
      ]
    },
    {
      "cell_type": "code",
      "execution_count": null,
      "metadata": {
        "colab": {
          "base_uri": "https://localhost:8080/",
          "height": 423
        },
        "id": "5YWEgCkb-Pbn",
        "outputId": "e8a629df-e9fb-49a0-8a7d-3a5c9539925e"
      },
      "outputs": [
        {
          "data": {
            "application/vnd.google.colaboratory.intrinsic+json": {
              "summary": "{\n  \"name\": \"data\",\n  \"rows\": 381,\n  \"fields\": [\n    {\n      \"column\": \"ApplicantIncome\",\n      \"properties\": {\n        \"dtype\": \"number\",\n        \"std\": 1404.6530252643067,\n        \"min\": 150.0,\n        \"max\": 9703.0,\n        \"num_unique_values\": 314,\n        \"samples\": [\n          3812.0,\n          5821.0,\n          3867.0\n        ],\n        \"semantic_type\": \"\",\n        \"description\": \"\"\n      }\n    },\n    {\n      \"column\": \"LoanAmount\",\n      \"properties\": {\n        \"dtype\": \"number\",\n        \"std\": 28.1833896739849,\n        \"min\": 9.0,\n        \"max\": 150.0,\n        \"num_unique_values\": 101,\n        \"samples\": [\n          103.0,\n          63.0,\n          59.0\n        ],\n        \"semantic_type\": \"\",\n        \"description\": \"\"\n      }\n    }\n  ]\n}",
              "type": "dataframe",
              "variable_name": "data"
            },
            "text/html": [
              "\n",
              "  <div id=\"df-a2457098-b7d9-4a5d-a5ab-a12dcc6bcaf3\" class=\"colab-df-container\">\n",
              "    <div>\n",
              "<style scoped>\n",
              "    .dataframe tbody tr th:only-of-type {\n",
              "        vertical-align: middle;\n",
              "    }\n",
              "\n",
              "    .dataframe tbody tr th {\n",
              "        vertical-align: top;\n",
              "    }\n",
              "\n",
              "    .dataframe thead th {\n",
              "        text-align: right;\n",
              "    }\n",
              "</style>\n",
              "<table border=\"1\" class=\"dataframe\">\n",
              "  <thead>\n",
              "    <tr style=\"text-align: right;\">\n",
              "      <th></th>\n",
              "      <th>ApplicantIncome</th>\n",
              "      <th>LoanAmount</th>\n",
              "    </tr>\n",
              "  </thead>\n",
              "  <tbody>\n",
              "    <tr>\n",
              "      <th>0</th>\n",
              "      <td>4583.0</td>\n",
              "      <td>128.0</td>\n",
              "    </tr>\n",
              "    <tr>\n",
              "      <th>1</th>\n",
              "      <td>3000.0</td>\n",
              "      <td>66.0</td>\n",
              "    </tr>\n",
              "    <tr>\n",
              "      <th>2</th>\n",
              "      <td>2583.0</td>\n",
              "      <td>120.0</td>\n",
              "    </tr>\n",
              "    <tr>\n",
              "      <th>3</th>\n",
              "      <td>6000.0</td>\n",
              "      <td>141.0</td>\n",
              "    </tr>\n",
              "    <tr>\n",
              "      <th>4</th>\n",
              "      <td>2333.0</td>\n",
              "      <td>95.0</td>\n",
              "    </tr>\n",
              "    <tr>\n",
              "      <th>...</th>\n",
              "      <td>...</td>\n",
              "      <td>...</td>\n",
              "    </tr>\n",
              "    <tr>\n",
              "      <th>376</th>\n",
              "      <td>5703.0</td>\n",
              "      <td>128.0</td>\n",
              "    </tr>\n",
              "    <tr>\n",
              "      <th>377</th>\n",
              "      <td>3232.0</td>\n",
              "      <td>108.0</td>\n",
              "    </tr>\n",
              "    <tr>\n",
              "      <th>378</th>\n",
              "      <td>2900.0</td>\n",
              "      <td>71.0</td>\n",
              "    </tr>\n",
              "    <tr>\n",
              "      <th>379</th>\n",
              "      <td>4106.0</td>\n",
              "      <td>40.0</td>\n",
              "    </tr>\n",
              "    <tr>\n",
              "      <th>380</th>\n",
              "      <td>4583.0</td>\n",
              "      <td>133.0</td>\n",
              "    </tr>\n",
              "  </tbody>\n",
              "</table>\n",
              "<p>381 rows × 2 columns</p>\n",
              "</div>\n",
              "    <div class=\"colab-df-buttons\">\n",
              "\n",
              "  <div class=\"colab-df-container\">\n",
              "    <button class=\"colab-df-convert\" onclick=\"convertToInteractive('df-a2457098-b7d9-4a5d-a5ab-a12dcc6bcaf3')\"\n",
              "            title=\"Convert this dataframe to an interactive table.\"\n",
              "            style=\"display:none;\">\n",
              "\n",
              "  <svg xmlns=\"http://www.w3.org/2000/svg\" height=\"24px\" viewBox=\"0 -960 960 960\">\n",
              "    <path d=\"M120-120v-720h720v720H120Zm60-500h600v-160H180v160Zm220 220h160v-160H400v160Zm0 220h160v-160H400v160ZM180-400h160v-160H180v160Zm440 0h160v-160H620v160ZM180-180h160v-160H180v160Zm440 0h160v-160H620v160Z\"/>\n",
              "  </svg>\n",
              "    </button>\n",
              "\n",
              "  <style>\n",
              "    .colab-df-container {\n",
              "      display:flex;\n",
              "      gap: 12px;\n",
              "    }\n",
              "\n",
              "    .colab-df-convert {\n",
              "      background-color: #E8F0FE;\n",
              "      border: none;\n",
              "      border-radius: 50%;\n",
              "      cursor: pointer;\n",
              "      display: none;\n",
              "      fill: #1967D2;\n",
              "      height: 32px;\n",
              "      padding: 0 0 0 0;\n",
              "      width: 32px;\n",
              "    }\n",
              "\n",
              "    .colab-df-convert:hover {\n",
              "      background-color: #E2EBFA;\n",
              "      box-shadow: 0px 1px 2px rgba(60, 64, 67, 0.3), 0px 1px 3px 1px rgba(60, 64, 67, 0.15);\n",
              "      fill: #174EA6;\n",
              "    }\n",
              "\n",
              "    .colab-df-buttons div {\n",
              "      margin-bottom: 4px;\n",
              "    }\n",
              "\n",
              "    [theme=dark] .colab-df-convert {\n",
              "      background-color: #3B4455;\n",
              "      fill: #D2E3FC;\n",
              "    }\n",
              "\n",
              "    [theme=dark] .colab-df-convert:hover {\n",
              "      background-color: #434B5C;\n",
              "      box-shadow: 0px 1px 3px 1px rgba(0, 0, 0, 0.15);\n",
              "      filter: drop-shadow(0px 1px 2px rgba(0, 0, 0, 0.3));\n",
              "      fill: #FFFFFF;\n",
              "    }\n",
              "  </style>\n",
              "\n",
              "    <script>\n",
              "      const buttonEl =\n",
              "        document.querySelector('#df-a2457098-b7d9-4a5d-a5ab-a12dcc6bcaf3 button.colab-df-convert');\n",
              "      buttonEl.style.display =\n",
              "        google.colab.kernel.accessAllowed ? 'block' : 'none';\n",
              "\n",
              "      async function convertToInteractive(key) {\n",
              "        const element = document.querySelector('#df-a2457098-b7d9-4a5d-a5ab-a12dcc6bcaf3');\n",
              "        const dataTable =\n",
              "          await google.colab.kernel.invokeFunction('convertToInteractive',\n",
              "                                                    [key], {});\n",
              "        if (!dataTable) return;\n",
              "\n",
              "        const docLinkHtml = 'Like what you see? Visit the ' +\n",
              "          '<a target=\"_blank\" href=https://colab.research.google.com/notebooks/data_table.ipynb>data table notebook</a>'\n",
              "          + ' to learn more about interactive tables.';\n",
              "        element.innerHTML = '';\n",
              "        dataTable['output_type'] = 'display_data';\n",
              "        await google.colab.output.renderOutput(dataTable, element);\n",
              "        const docLink = document.createElement('div');\n",
              "        docLink.innerHTML = docLinkHtml;\n",
              "        element.appendChild(docLink);\n",
              "      }\n",
              "    </script>\n",
              "  </div>\n",
              "\n",
              "\n",
              "<div id=\"df-deb3a648-bc57-4661-a3e5-428ce9e099cd\">\n",
              "  <button class=\"colab-df-quickchart\" onclick=\"quickchart('df-deb3a648-bc57-4661-a3e5-428ce9e099cd')\"\n",
              "            title=\"Suggest charts\"\n",
              "            style=\"display:none;\">\n",
              "\n",
              "<svg xmlns=\"http://www.w3.org/2000/svg\" height=\"24px\"viewBox=\"0 0 24 24\"\n",
              "     width=\"24px\">\n",
              "    <g>\n",
              "        <path d=\"M19 3H5c-1.1 0-2 .9-2 2v14c0 1.1.9 2 2 2h14c1.1 0 2-.9 2-2V5c0-1.1-.9-2-2-2zM9 17H7v-7h2v7zm4 0h-2V7h2v10zm4 0h-2v-4h2v4z\"/>\n",
              "    </g>\n",
              "</svg>\n",
              "  </button>\n",
              "\n",
              "<style>\n",
              "  .colab-df-quickchart {\n",
              "      --bg-color: #E8F0FE;\n",
              "      --fill-color: #1967D2;\n",
              "      --hover-bg-color: #E2EBFA;\n",
              "      --hover-fill-color: #174EA6;\n",
              "      --disabled-fill-color: #AAA;\n",
              "      --disabled-bg-color: #DDD;\n",
              "  }\n",
              "\n",
              "  [theme=dark] .colab-df-quickchart {\n",
              "      --bg-color: #3B4455;\n",
              "      --fill-color: #D2E3FC;\n",
              "      --hover-bg-color: #434B5C;\n",
              "      --hover-fill-color: #FFFFFF;\n",
              "      --disabled-bg-color: #3B4455;\n",
              "      --disabled-fill-color: #666;\n",
              "  }\n",
              "\n",
              "  .colab-df-quickchart {\n",
              "    background-color: var(--bg-color);\n",
              "    border: none;\n",
              "    border-radius: 50%;\n",
              "    cursor: pointer;\n",
              "    display: none;\n",
              "    fill: var(--fill-color);\n",
              "    height: 32px;\n",
              "    padding: 0;\n",
              "    width: 32px;\n",
              "  }\n",
              "\n",
              "  .colab-df-quickchart:hover {\n",
              "    background-color: var(--hover-bg-color);\n",
              "    box-shadow: 0 1px 2px rgba(60, 64, 67, 0.3), 0 1px 3px 1px rgba(60, 64, 67, 0.15);\n",
              "    fill: var(--button-hover-fill-color);\n",
              "  }\n",
              "\n",
              "  .colab-df-quickchart-complete:disabled,\n",
              "  .colab-df-quickchart-complete:disabled:hover {\n",
              "    background-color: var(--disabled-bg-color);\n",
              "    fill: var(--disabled-fill-color);\n",
              "    box-shadow: none;\n",
              "  }\n",
              "\n",
              "  .colab-df-spinner {\n",
              "    border: 2px solid var(--fill-color);\n",
              "    border-color: transparent;\n",
              "    border-bottom-color: var(--fill-color);\n",
              "    animation:\n",
              "      spin 1s steps(1) infinite;\n",
              "  }\n",
              "\n",
              "  @keyframes spin {\n",
              "    0% {\n",
              "      border-color: transparent;\n",
              "      border-bottom-color: var(--fill-color);\n",
              "      border-left-color: var(--fill-color);\n",
              "    }\n",
              "    20% {\n",
              "      border-color: transparent;\n",
              "      border-left-color: var(--fill-color);\n",
              "      border-top-color: var(--fill-color);\n",
              "    }\n",
              "    30% {\n",
              "      border-color: transparent;\n",
              "      border-left-color: var(--fill-color);\n",
              "      border-top-color: var(--fill-color);\n",
              "      border-right-color: var(--fill-color);\n",
              "    }\n",
              "    40% {\n",
              "      border-color: transparent;\n",
              "      border-right-color: var(--fill-color);\n",
              "      border-top-color: var(--fill-color);\n",
              "    }\n",
              "    60% {\n",
              "      border-color: transparent;\n",
              "      border-right-color: var(--fill-color);\n",
              "    }\n",
              "    80% {\n",
              "      border-color: transparent;\n",
              "      border-right-color: var(--fill-color);\n",
              "      border-bottom-color: var(--fill-color);\n",
              "    }\n",
              "    90% {\n",
              "      border-color: transparent;\n",
              "      border-bottom-color: var(--fill-color);\n",
              "    }\n",
              "  }\n",
              "</style>\n",
              "\n",
              "  <script>\n",
              "    async function quickchart(key) {\n",
              "      const quickchartButtonEl =\n",
              "        document.querySelector('#' + key + ' button');\n",
              "      quickchartButtonEl.disabled = true;  // To prevent multiple clicks.\n",
              "      quickchartButtonEl.classList.add('colab-df-spinner');\n",
              "      try {\n",
              "        const charts = await google.colab.kernel.invokeFunction(\n",
              "            'suggestCharts', [key], {});\n",
              "      } catch (error) {\n",
              "        console.error('Error during call to suggestCharts:', error);\n",
              "      }\n",
              "      quickchartButtonEl.classList.remove('colab-df-spinner');\n",
              "      quickchartButtonEl.classList.add('colab-df-quickchart-complete');\n",
              "    }\n",
              "    (() => {\n",
              "      let quickchartButtonEl =\n",
              "        document.querySelector('#df-deb3a648-bc57-4661-a3e5-428ce9e099cd button');\n",
              "      quickchartButtonEl.style.display =\n",
              "        google.colab.kernel.accessAllowed ? 'block' : 'none';\n",
              "    })();\n",
              "  </script>\n",
              "</div>\n",
              "\n",
              "  <div id=\"id_a2d880dd-e4bc-4369-a63e-87db9c2db7c6\">\n",
              "    <style>\n",
              "      .colab-df-generate {\n",
              "        background-color: #E8F0FE;\n",
              "        border: none;\n",
              "        border-radius: 50%;\n",
              "        cursor: pointer;\n",
              "        display: none;\n",
              "        fill: #1967D2;\n",
              "        height: 32px;\n",
              "        padding: 0 0 0 0;\n",
              "        width: 32px;\n",
              "      }\n",
              "\n",
              "      .colab-df-generate:hover {\n",
              "        background-color: #E2EBFA;\n",
              "        box-shadow: 0px 1px 2px rgba(60, 64, 67, 0.3), 0px 1px 3px 1px rgba(60, 64, 67, 0.15);\n",
              "        fill: #174EA6;\n",
              "      }\n",
              "\n",
              "      [theme=dark] .colab-df-generate {\n",
              "        background-color: #3B4455;\n",
              "        fill: #D2E3FC;\n",
              "      }\n",
              "\n",
              "      [theme=dark] .colab-df-generate:hover {\n",
              "        background-color: #434B5C;\n",
              "        box-shadow: 0px 1px 3px 1px rgba(0, 0, 0, 0.15);\n",
              "        filter: drop-shadow(0px 1px 2px rgba(0, 0, 0, 0.3));\n",
              "        fill: #FFFFFF;\n",
              "      }\n",
              "    </style>\n",
              "    <button class=\"colab-df-generate\" onclick=\"generateWithVariable('data')\"\n",
              "            title=\"Generate code using this dataframe.\"\n",
              "            style=\"display:none;\">\n",
              "\n",
              "  <svg xmlns=\"http://www.w3.org/2000/svg\" height=\"24px\"viewBox=\"0 0 24 24\"\n",
              "       width=\"24px\">\n",
              "    <path d=\"M7,19H8.4L18.45,9,17,7.55,7,17.6ZM5,21V16.75L18.45,3.32a2,2,0,0,1,2.83,0l1.4,1.43a1.91,1.91,0,0,1,.58,1.4,1.91,1.91,0,0,1-.58,1.4L9.25,21ZM18.45,9,17,7.55Zm-12,3A5.31,5.31,0,0,0,4.9,8.1,5.31,5.31,0,0,0,1,6.5,5.31,5.31,0,0,0,4.9,4.9,5.31,5.31,0,0,0,6.5,1,5.31,5.31,0,0,0,8.1,4.9,5.31,5.31,0,0,0,12,6.5,5.46,5.46,0,0,0,6.5,12Z\"/>\n",
              "  </svg>\n",
              "    </button>\n",
              "    <script>\n",
              "      (() => {\n",
              "      const buttonEl =\n",
              "        document.querySelector('#id_a2d880dd-e4bc-4369-a63e-87db9c2db7c6 button.colab-df-generate');\n",
              "      buttonEl.style.display =\n",
              "        google.colab.kernel.accessAllowed ? 'block' : 'none';\n",
              "\n",
              "      buttonEl.onclick = () => {\n",
              "        google.colab.notebook.generateWithVariable('data');\n",
              "      }\n",
              "      })();\n",
              "    </script>\n",
              "  </div>\n",
              "\n",
              "    </div>\n",
              "  </div>\n"
            ],
            "text/plain": [
              "     ApplicantIncome  LoanAmount\n",
              "0             4583.0       128.0\n",
              "1             3000.0        66.0\n",
              "2             2583.0       120.0\n",
              "3             6000.0       141.0\n",
              "4             2333.0        95.0\n",
              "..               ...         ...\n",
              "376           5703.0       128.0\n",
              "377           3232.0       108.0\n",
              "378           2900.0        71.0\n",
              "379           4106.0        40.0\n",
              "380           4583.0       133.0\n",
              "\n",
              "[381 rows x 2 columns]"
            ]
          },
          "execution_count": 181,
          "metadata": {},
          "output_type": "execute_result"
        }
      ],
      "source": [
        "#take neccesary columns\n",
        "data = data[['ApplicantIncome','LoanAmount']]\n",
        "data"
      ]
    },
    {
      "cell_type": "code",
      "execution_count": null,
      "metadata": {
        "colab": {
          "base_uri": "https://localhost:8080/",
          "height": 423
        },
        "id": "HrFUgjdB-AAJ",
        "outputId": "b9b13938-251f-457a-eb23-a2dc814ffb02"
      },
      "outputs": [
        {
          "data": {
            "application/vnd.google.colaboratory.intrinsic+json": {
              "summary": "{\n  \"name\": \"data\",\n  \"rows\": 381,\n  \"fields\": [\n    {\n      \"column\": \"ApplicantIncome\",\n      \"properties\": {\n        \"dtype\": \"number\",\n        \"std\": 1404.6530252643067,\n        \"min\": 150.0,\n        \"max\": 9703.0,\n        \"num_unique_values\": 314,\n        \"samples\": [\n          3812.0,\n          5821.0,\n          3867.0\n        ],\n        \"semantic_type\": \"\",\n        \"description\": \"\"\n      }\n    },\n    {\n      \"column\": \"LoanAmount\",\n      \"properties\": {\n        \"dtype\": \"number\",\n        \"std\": 28.1833896739849,\n        \"min\": 9.0,\n        \"max\": 150.0,\n        \"num_unique_values\": 101,\n        \"samples\": [\n          103.0,\n          63.0,\n          59.0\n        ],\n        \"semantic_type\": \"\",\n        \"description\": \"\"\n      }\n    },\n    {\n      \"column\": \"clusters\",\n      \"properties\": {\n        \"dtype\": \"number\",\n        \"std\": 0,\n        \"min\": 0,\n        \"max\": 2,\n        \"num_unique_values\": 3,\n        \"samples\": [\n          0,\n          2,\n          1\n        ],\n        \"semantic_type\": \"\",\n        \"description\": \"\"\n      }\n    }\n  ]\n}",
              "type": "dataframe",
              "variable_name": "data"
            },
            "text/html": [
              "\n",
              "  <div id=\"df-84f09b53-ec79-47b4-a569-104602be419b\" class=\"colab-df-container\">\n",
              "    <div>\n",
              "<style scoped>\n",
              "    .dataframe tbody tr th:only-of-type {\n",
              "        vertical-align: middle;\n",
              "    }\n",
              "\n",
              "    .dataframe tbody tr th {\n",
              "        vertical-align: top;\n",
              "    }\n",
              "\n",
              "    .dataframe thead th {\n",
              "        text-align: right;\n",
              "    }\n",
              "</style>\n",
              "<table border=\"1\" class=\"dataframe\">\n",
              "  <thead>\n",
              "    <tr style=\"text-align: right;\">\n",
              "      <th></th>\n",
              "      <th>ApplicantIncome</th>\n",
              "      <th>LoanAmount</th>\n",
              "      <th>clusters</th>\n",
              "    </tr>\n",
              "  </thead>\n",
              "  <tbody>\n",
              "    <tr>\n",
              "      <th>0</th>\n",
              "      <td>4583.0</td>\n",
              "      <td>128.0</td>\n",
              "      <td>0</td>\n",
              "    </tr>\n",
              "    <tr>\n",
              "      <th>1</th>\n",
              "      <td>3000.0</td>\n",
              "      <td>66.0</td>\n",
              "      <td>0</td>\n",
              "    </tr>\n",
              "    <tr>\n",
              "      <th>2</th>\n",
              "      <td>2583.0</td>\n",
              "      <td>120.0</td>\n",
              "      <td>2</td>\n",
              "    </tr>\n",
              "    <tr>\n",
              "      <th>3</th>\n",
              "      <td>6000.0</td>\n",
              "      <td>141.0</td>\n",
              "      <td>1</td>\n",
              "    </tr>\n",
              "    <tr>\n",
              "      <th>4</th>\n",
              "      <td>2333.0</td>\n",
              "      <td>95.0</td>\n",
              "      <td>2</td>\n",
              "    </tr>\n",
              "    <tr>\n",
              "      <th>...</th>\n",
              "      <td>...</td>\n",
              "      <td>...</td>\n",
              "      <td>...</td>\n",
              "    </tr>\n",
              "    <tr>\n",
              "      <th>376</th>\n",
              "      <td>5703.0</td>\n",
              "      <td>128.0</td>\n",
              "      <td>1</td>\n",
              "    </tr>\n",
              "    <tr>\n",
              "      <th>377</th>\n",
              "      <td>3232.0</td>\n",
              "      <td>108.0</td>\n",
              "      <td>0</td>\n",
              "    </tr>\n",
              "    <tr>\n",
              "      <th>378</th>\n",
              "      <td>2900.0</td>\n",
              "      <td>71.0</td>\n",
              "      <td>0</td>\n",
              "    </tr>\n",
              "    <tr>\n",
              "      <th>379</th>\n",
              "      <td>4106.0</td>\n",
              "      <td>40.0</td>\n",
              "      <td>0</td>\n",
              "    </tr>\n",
              "    <tr>\n",
              "      <th>380</th>\n",
              "      <td>4583.0</td>\n",
              "      <td>133.0</td>\n",
              "      <td>0</td>\n",
              "    </tr>\n",
              "  </tbody>\n",
              "</table>\n",
              "<p>381 rows × 3 columns</p>\n",
              "</div>\n",
              "    <div class=\"colab-df-buttons\">\n",
              "\n",
              "  <div class=\"colab-df-container\">\n",
              "    <button class=\"colab-df-convert\" onclick=\"convertToInteractive('df-84f09b53-ec79-47b4-a569-104602be419b')\"\n",
              "            title=\"Convert this dataframe to an interactive table.\"\n",
              "            style=\"display:none;\">\n",
              "\n",
              "  <svg xmlns=\"http://www.w3.org/2000/svg\" height=\"24px\" viewBox=\"0 -960 960 960\">\n",
              "    <path d=\"M120-120v-720h720v720H120Zm60-500h600v-160H180v160Zm220 220h160v-160H400v160Zm0 220h160v-160H400v160ZM180-400h160v-160H180v160Zm440 0h160v-160H620v160ZM180-180h160v-160H180v160Zm440 0h160v-160H620v160Z\"/>\n",
              "  </svg>\n",
              "    </button>\n",
              "\n",
              "  <style>\n",
              "    .colab-df-container {\n",
              "      display:flex;\n",
              "      gap: 12px;\n",
              "    }\n",
              "\n",
              "    .colab-df-convert {\n",
              "      background-color: #E8F0FE;\n",
              "      border: none;\n",
              "      border-radius: 50%;\n",
              "      cursor: pointer;\n",
              "      display: none;\n",
              "      fill: #1967D2;\n",
              "      height: 32px;\n",
              "      padding: 0 0 0 0;\n",
              "      width: 32px;\n",
              "    }\n",
              "\n",
              "    .colab-df-convert:hover {\n",
              "      background-color: #E2EBFA;\n",
              "      box-shadow: 0px 1px 2px rgba(60, 64, 67, 0.3), 0px 1px 3px 1px rgba(60, 64, 67, 0.15);\n",
              "      fill: #174EA6;\n",
              "    }\n",
              "\n",
              "    .colab-df-buttons div {\n",
              "      margin-bottom: 4px;\n",
              "    }\n",
              "\n",
              "    [theme=dark] .colab-df-convert {\n",
              "      background-color: #3B4455;\n",
              "      fill: #D2E3FC;\n",
              "    }\n",
              "\n",
              "    [theme=dark] .colab-df-convert:hover {\n",
              "      background-color: #434B5C;\n",
              "      box-shadow: 0px 1px 3px 1px rgba(0, 0, 0, 0.15);\n",
              "      filter: drop-shadow(0px 1px 2px rgba(0, 0, 0, 0.3));\n",
              "      fill: #FFFFFF;\n",
              "    }\n",
              "  </style>\n",
              "\n",
              "    <script>\n",
              "      const buttonEl =\n",
              "        document.querySelector('#df-84f09b53-ec79-47b4-a569-104602be419b button.colab-df-convert');\n",
              "      buttonEl.style.display =\n",
              "        google.colab.kernel.accessAllowed ? 'block' : 'none';\n",
              "\n",
              "      async function convertToInteractive(key) {\n",
              "        const element = document.querySelector('#df-84f09b53-ec79-47b4-a569-104602be419b');\n",
              "        const dataTable =\n",
              "          await google.colab.kernel.invokeFunction('convertToInteractive',\n",
              "                                                    [key], {});\n",
              "        if (!dataTable) return;\n",
              "\n",
              "        const docLinkHtml = 'Like what you see? Visit the ' +\n",
              "          '<a target=\"_blank\" href=https://colab.research.google.com/notebooks/data_table.ipynb>data table notebook</a>'\n",
              "          + ' to learn more about interactive tables.';\n",
              "        element.innerHTML = '';\n",
              "        dataTable['output_type'] = 'display_data';\n",
              "        await google.colab.output.renderOutput(dataTable, element);\n",
              "        const docLink = document.createElement('div');\n",
              "        docLink.innerHTML = docLinkHtml;\n",
              "        element.appendChild(docLink);\n",
              "      }\n",
              "    </script>\n",
              "  </div>\n",
              "\n",
              "\n",
              "<div id=\"df-a8863497-2681-4d46-9325-d5685879ab15\">\n",
              "  <button class=\"colab-df-quickchart\" onclick=\"quickchart('df-a8863497-2681-4d46-9325-d5685879ab15')\"\n",
              "            title=\"Suggest charts\"\n",
              "            style=\"display:none;\">\n",
              "\n",
              "<svg xmlns=\"http://www.w3.org/2000/svg\" height=\"24px\"viewBox=\"0 0 24 24\"\n",
              "     width=\"24px\">\n",
              "    <g>\n",
              "        <path d=\"M19 3H5c-1.1 0-2 .9-2 2v14c0 1.1.9 2 2 2h14c1.1 0 2-.9 2-2V5c0-1.1-.9-2-2-2zM9 17H7v-7h2v7zm4 0h-2V7h2v10zm4 0h-2v-4h2v4z\"/>\n",
              "    </g>\n",
              "</svg>\n",
              "  </button>\n",
              "\n",
              "<style>\n",
              "  .colab-df-quickchart {\n",
              "      --bg-color: #E8F0FE;\n",
              "      --fill-color: #1967D2;\n",
              "      --hover-bg-color: #E2EBFA;\n",
              "      --hover-fill-color: #174EA6;\n",
              "      --disabled-fill-color: #AAA;\n",
              "      --disabled-bg-color: #DDD;\n",
              "  }\n",
              "\n",
              "  [theme=dark] .colab-df-quickchart {\n",
              "      --bg-color: #3B4455;\n",
              "      --fill-color: #D2E3FC;\n",
              "      --hover-bg-color: #434B5C;\n",
              "      --hover-fill-color: #FFFFFF;\n",
              "      --disabled-bg-color: #3B4455;\n",
              "      --disabled-fill-color: #666;\n",
              "  }\n",
              "\n",
              "  .colab-df-quickchart {\n",
              "    background-color: var(--bg-color);\n",
              "    border: none;\n",
              "    border-radius: 50%;\n",
              "    cursor: pointer;\n",
              "    display: none;\n",
              "    fill: var(--fill-color);\n",
              "    height: 32px;\n",
              "    padding: 0;\n",
              "    width: 32px;\n",
              "  }\n",
              "\n",
              "  .colab-df-quickchart:hover {\n",
              "    background-color: var(--hover-bg-color);\n",
              "    box-shadow: 0 1px 2px rgba(60, 64, 67, 0.3), 0 1px 3px 1px rgba(60, 64, 67, 0.15);\n",
              "    fill: var(--button-hover-fill-color);\n",
              "  }\n",
              "\n",
              "  .colab-df-quickchart-complete:disabled,\n",
              "  .colab-df-quickchart-complete:disabled:hover {\n",
              "    background-color: var(--disabled-bg-color);\n",
              "    fill: var(--disabled-fill-color);\n",
              "    box-shadow: none;\n",
              "  }\n",
              "\n",
              "  .colab-df-spinner {\n",
              "    border: 2px solid var(--fill-color);\n",
              "    border-color: transparent;\n",
              "    border-bottom-color: var(--fill-color);\n",
              "    animation:\n",
              "      spin 1s steps(1) infinite;\n",
              "  }\n",
              "\n",
              "  @keyframes spin {\n",
              "    0% {\n",
              "      border-color: transparent;\n",
              "      border-bottom-color: var(--fill-color);\n",
              "      border-left-color: var(--fill-color);\n",
              "    }\n",
              "    20% {\n",
              "      border-color: transparent;\n",
              "      border-left-color: var(--fill-color);\n",
              "      border-top-color: var(--fill-color);\n",
              "    }\n",
              "    30% {\n",
              "      border-color: transparent;\n",
              "      border-left-color: var(--fill-color);\n",
              "      border-top-color: var(--fill-color);\n",
              "      border-right-color: var(--fill-color);\n",
              "    }\n",
              "    40% {\n",
              "      border-color: transparent;\n",
              "      border-right-color: var(--fill-color);\n",
              "      border-top-color: var(--fill-color);\n",
              "    }\n",
              "    60% {\n",
              "      border-color: transparent;\n",
              "      border-right-color: var(--fill-color);\n",
              "    }\n",
              "    80% {\n",
              "      border-color: transparent;\n",
              "      border-right-color: var(--fill-color);\n",
              "      border-bottom-color: var(--fill-color);\n",
              "    }\n",
              "    90% {\n",
              "      border-color: transparent;\n",
              "      border-bottom-color: var(--fill-color);\n",
              "    }\n",
              "  }\n",
              "</style>\n",
              "\n",
              "  <script>\n",
              "    async function quickchart(key) {\n",
              "      const quickchartButtonEl =\n",
              "        document.querySelector('#' + key + ' button');\n",
              "      quickchartButtonEl.disabled = true;  // To prevent multiple clicks.\n",
              "      quickchartButtonEl.classList.add('colab-df-spinner');\n",
              "      try {\n",
              "        const charts = await google.colab.kernel.invokeFunction(\n",
              "            'suggestCharts', [key], {});\n",
              "      } catch (error) {\n",
              "        console.error('Error during call to suggestCharts:', error);\n",
              "      }\n",
              "      quickchartButtonEl.classList.remove('colab-df-spinner');\n",
              "      quickchartButtonEl.classList.add('colab-df-quickchart-complete');\n",
              "    }\n",
              "    (() => {\n",
              "      let quickchartButtonEl =\n",
              "        document.querySelector('#df-a8863497-2681-4d46-9325-d5685879ab15 button');\n",
              "      quickchartButtonEl.style.display =\n",
              "        google.colab.kernel.accessAllowed ? 'block' : 'none';\n",
              "    })();\n",
              "  </script>\n",
              "</div>\n",
              "\n",
              "  <div id=\"id_aced7d48-fbfc-4718-a5dc-72edfd2cd726\">\n",
              "    <style>\n",
              "      .colab-df-generate {\n",
              "        background-color: #E8F0FE;\n",
              "        border: none;\n",
              "        border-radius: 50%;\n",
              "        cursor: pointer;\n",
              "        display: none;\n",
              "        fill: #1967D2;\n",
              "        height: 32px;\n",
              "        padding: 0 0 0 0;\n",
              "        width: 32px;\n",
              "      }\n",
              "\n",
              "      .colab-df-generate:hover {\n",
              "        background-color: #E2EBFA;\n",
              "        box-shadow: 0px 1px 2px rgba(60, 64, 67, 0.3), 0px 1px 3px 1px rgba(60, 64, 67, 0.15);\n",
              "        fill: #174EA6;\n",
              "      }\n",
              "\n",
              "      [theme=dark] .colab-df-generate {\n",
              "        background-color: #3B4455;\n",
              "        fill: #D2E3FC;\n",
              "      }\n",
              "\n",
              "      [theme=dark] .colab-df-generate:hover {\n",
              "        background-color: #434B5C;\n",
              "        box-shadow: 0px 1px 3px 1px rgba(0, 0, 0, 0.15);\n",
              "        filter: drop-shadow(0px 1px 2px rgba(0, 0, 0, 0.3));\n",
              "        fill: #FFFFFF;\n",
              "      }\n",
              "    </style>\n",
              "    <button class=\"colab-df-generate\" onclick=\"generateWithVariable('data')\"\n",
              "            title=\"Generate code using this dataframe.\"\n",
              "            style=\"display:none;\">\n",
              "\n",
              "  <svg xmlns=\"http://www.w3.org/2000/svg\" height=\"24px\"viewBox=\"0 0 24 24\"\n",
              "       width=\"24px\">\n",
              "    <path d=\"M7,19H8.4L18.45,9,17,7.55,7,17.6ZM5,21V16.75L18.45,3.32a2,2,0,0,1,2.83,0l1.4,1.43a1.91,1.91,0,0,1,.58,1.4,1.91,1.91,0,0,1-.58,1.4L9.25,21ZM18.45,9,17,7.55Zm-12,3A5.31,5.31,0,0,0,4.9,8.1,5.31,5.31,0,0,0,1,6.5,5.31,5.31,0,0,0,4.9,4.9,5.31,5.31,0,0,0,6.5,1,5.31,5.31,0,0,0,8.1,4.9,5.31,5.31,0,0,0,12,6.5,5.46,5.46,0,0,0,6.5,12Z\"/>\n",
              "  </svg>\n",
              "    </button>\n",
              "    <script>\n",
              "      (() => {\n",
              "      const buttonEl =\n",
              "        document.querySelector('#id_aced7d48-fbfc-4718-a5dc-72edfd2cd726 button.colab-df-generate');\n",
              "      buttonEl.style.display =\n",
              "        google.colab.kernel.accessAllowed ? 'block' : 'none';\n",
              "\n",
              "      buttonEl.onclick = () => {\n",
              "        google.colab.notebook.generateWithVariable('data');\n",
              "      }\n",
              "      })();\n",
              "    </script>\n",
              "  </div>\n",
              "\n",
              "    </div>\n",
              "  </div>\n"
            ],
            "text/plain": [
              "     ApplicantIncome  LoanAmount  clusters\n",
              "0             4583.0       128.0         0\n",
              "1             3000.0        66.0         0\n",
              "2             2583.0       120.0         2\n",
              "3             6000.0       141.0         1\n",
              "4             2333.0        95.0         2\n",
              "..               ...         ...       ...\n",
              "376           5703.0       128.0         1\n",
              "377           3232.0       108.0         0\n",
              "378           2900.0        71.0         0\n",
              "379           4106.0        40.0         0\n",
              "380           4583.0       133.0         0\n",
              "\n",
              "[381 rows x 3 columns]"
            ]
          },
          "execution_count": 182,
          "metadata": {},
          "output_type": "execute_result"
        }
      ],
      "source": [
        "#Create clusters column\n",
        "data['clusters']=pred\n",
        "data\n",
        "#del data['clusters']"
      ]
    },
    {
      "cell_type": "code",
      "execution_count": null,
      "metadata": {
        "colab": {
          "base_uri": "https://localhost:8080/",
          "height": 448
        },
        "id": "U02YZrHX8ykg",
        "outputId": "cf678098-cdb2-453b-92f7-588f75e259b2"
      },
      "outputs": [
        {
          "data": {
            "text/plain": [
              "<matplotlib.collections.PathCollection at 0x7c4cc88c2290>"
            ]
          },
          "execution_count": 183,
          "metadata": {},
          "output_type": "execute_result"
        },
        {
          "data": {
            "image/png": "[encoded data removed]",
            "text/plain": [
              "<Figure size 640x480 with 1 Axes>"
            ]
          },
          "metadata": {},
          "output_type": "display_data"
        }
      ],
      "source": [
        "cluster1 = data[data[\"clusters\"]==0]\n",
        "cluster2 = data[data[\"clusters\"]==1]\n",
        "cluster3 = data[data[\"clusters\"]==2]\n",
        "\n",
        "plt.scatter(cluster1['ApplicantIncome'], cluster1['LoanAmount'])\n",
        "plt.scatter(cluster2['ApplicantIncome'], cluster2['LoanAmount'])\n",
        "plt.scatter(cluster3['ApplicantIncome'], cluster3['LoanAmount'])"
      ]
    }
  ],
  "metadata": {
    "colab": {
      "provenance": []
    },
    "kernelspec": {
      "display_name": "tf_env",
      "language": "python",
      "name": "python3"
    },
    "language_info": {
      "codemirror_mode": {
        "name": "ipython",
        "version": 3
      },
      "file_extension": ".py",
      "mimetype": "text/x-python",
      "name": "python",
      "nbconvert_exporter": "python",
      "pygments_lexer": "ipython3",
      "version": "3.10.13"
    }
  },
  "nbformat": 4,
  "nbformat_minor": 0
}
