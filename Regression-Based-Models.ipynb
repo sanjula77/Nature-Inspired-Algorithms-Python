{
 "cells": [
  {
   "cell_type": "code",
   "execution_count": 41,
   "id": "2f906d21",
   "metadata": {},
   "outputs": [],
   "source": [
    "import pandas as pd\n",
    "import numpy as np\n",
    "from sklearn.impute import SimpleImputer\n",
    "from sklearn.preprocessing import LabelEncoder, MinMaxScaler\n",
    "from sklearn.model_selection import train_test_split"
   ]
  },
  {
   "cell_type": "code",
   "execution_count": 42,
   "id": "98a44963",
   "metadata": {},
   "outputs": [
    {
     "data": {
      "text/html": [
       "<div>\n",
       "<style scoped>\n",
       "    .dataframe tbody tr th:only-of-type {\n",
       "        vertical-align: middle;\n",
       "    }\n",
       "\n",
       "    .dataframe tbody tr th {\n",
       "        vertical-align: top;\n",
       "    }\n",
       "\n",
       "    .dataframe thead th {\n",
       "        text-align: right;\n",
       "    }\n",
       "</style>\n",
       "<table border=\"1\" class=\"dataframe\">\n",
       "  <thead>\n",
       "    <tr style=\"text-align: right;\">\n",
       "      <th></th>\n",
       "      <th>University Admission year</th>\n",
       "      <th>Gender</th>\n",
       "      <th>Age</th>\n",
       "      <th>H.S.C passing year</th>\n",
       "      <th>Program</th>\n",
       "      <th>Current Semester</th>\n",
       "      <th>Do you have meritorious scholarship ?</th>\n",
       "      <th>Do you use University transportation?</th>\n",
       "      <th>How many hour do you study daily?</th>\n",
       "      <th>How many times do you seat for study in a day?</th>\n",
       "      <th>...</th>\n",
       "      <th>What is you interested area?</th>\n",
       "      <th>What is your relationship status?</th>\n",
       "      <th>Are you engaged with any co-curriculum activities?</th>\n",
       "      <th>With whom you are living with?</th>\n",
       "      <th>Do you have any health issues?</th>\n",
       "      <th>What was your previous SGPA?</th>\n",
       "      <th>Do you have any physical disabilities?</th>\n",
       "      <th>What is your current CGPA?</th>\n",
       "      <th>How many Credit did you have completed?</th>\n",
       "      <th>What is your monthly family income?</th>\n",
       "    </tr>\n",
       "  </thead>\n",
       "  <tbody>\n",
       "    <tr>\n",
       "      <th>0</th>\n",
       "      <td>2018</td>\n",
       "      <td>Male</td>\n",
       "      <td>24</td>\n",
       "      <td>2016</td>\n",
       "      <td>BCSE</td>\n",
       "      <td>12</td>\n",
       "      <td>Yes</td>\n",
       "      <td>No</td>\n",
       "      <td>3</td>\n",
       "      <td>2</td>\n",
       "      <td>...</td>\n",
       "      <td>Data Schince</td>\n",
       "      <td>Single</td>\n",
       "      <td>Yes</td>\n",
       "      <td>Bachelor</td>\n",
       "      <td>No</td>\n",
       "      <td>2.68</td>\n",
       "      <td>No</td>\n",
       "      <td>3.15</td>\n",
       "      <td>75</td>\n",
       "      <td>25000</td>\n",
       "    </tr>\n",
       "    <tr>\n",
       "      <th>1</th>\n",
       "      <td>2021</td>\n",
       "      <td>Male</td>\n",
       "      <td>22</td>\n",
       "      <td>2020</td>\n",
       "      <td>BCSE</td>\n",
       "      <td>4</td>\n",
       "      <td>Yes</td>\n",
       "      <td>Yes</td>\n",
       "      <td>3</td>\n",
       "      <td>2</td>\n",
       "      <td>...</td>\n",
       "      <td>Event management</td>\n",
       "      <td>Single</td>\n",
       "      <td>Yes</td>\n",
       "      <td>Family</td>\n",
       "      <td>No</td>\n",
       "      <td>2.68</td>\n",
       "      <td>No</td>\n",
       "      <td>3.15</td>\n",
       "      <td>36</td>\n",
       "      <td>100000</td>\n",
       "    </tr>\n",
       "    <tr>\n",
       "      <th>2</th>\n",
       "      <td>2020</td>\n",
       "      <td>Female</td>\n",
       "      <td>21</td>\n",
       "      <td>2019</td>\n",
       "      <td>BCSE</td>\n",
       "      <td>5</td>\n",
       "      <td>No</td>\n",
       "      <td>No</td>\n",
       "      <td>3</td>\n",
       "      <td>3</td>\n",
       "      <td>...</td>\n",
       "      <td>Software</td>\n",
       "      <td>Single</td>\n",
       "      <td>No</td>\n",
       "      <td>Bachelor</td>\n",
       "      <td>No</td>\n",
       "      <td>2.68</td>\n",
       "      <td>No</td>\n",
       "      <td>3.15</td>\n",
       "      <td>50</td>\n",
       "      <td>50000</td>\n",
       "    </tr>\n",
       "    <tr>\n",
       "      <th>3</th>\n",
       "      <td>2021</td>\n",
       "      <td>Male</td>\n",
       "      <td>20</td>\n",
       "      <td>2020</td>\n",
       "      <td>BCSE</td>\n",
       "      <td>4</td>\n",
       "      <td>Yes</td>\n",
       "      <td>No</td>\n",
       "      <td>1</td>\n",
       "      <td>3</td>\n",
       "      <td>...</td>\n",
       "      <td>Artificial Intelligence</td>\n",
       "      <td>Single</td>\n",
       "      <td>No</td>\n",
       "      <td>Bachelor</td>\n",
       "      <td>Yes</td>\n",
       "      <td>2.68</td>\n",
       "      <td>No</td>\n",
       "      <td>3.15</td>\n",
       "      <td>36</td>\n",
       "      <td>62488</td>\n",
       "    </tr>\n",
       "    <tr>\n",
       "      <th>4</th>\n",
       "      <td>2021</td>\n",
       "      <td>Male</td>\n",
       "      <td>22</td>\n",
       "      <td>2019</td>\n",
       "      <td>BCSE</td>\n",
       "      <td>4</td>\n",
       "      <td>Yes</td>\n",
       "      <td>No</td>\n",
       "      <td>3</td>\n",
       "      <td>1</td>\n",
       "      <td>...</td>\n",
       "      <td>Software</td>\n",
       "      <td>Relationship</td>\n",
       "      <td>No</td>\n",
       "      <td>Bachelor</td>\n",
       "      <td>Yes</td>\n",
       "      <td>2.68</td>\n",
       "      <td>No</td>\n",
       "      <td>3.15</td>\n",
       "      <td>36</td>\n",
       "      <td>50000</td>\n",
       "    </tr>\n",
       "  </tbody>\n",
       "</table>\n",
       "<p>5 rows × 31 columns</p>\n",
       "</div>"
      ],
      "text/plain": [
       "   University Admission year  Gender  Age  H.S.C passing year Program  \\\n",
       "0                       2018    Male   24                2016    BCSE   \n",
       "1                       2021    Male   22                2020    BCSE   \n",
       "2                       2020  Female   21                2019    BCSE   \n",
       "3                       2021    Male   20                2020    BCSE   \n",
       "4                       2021    Male   22                2019    BCSE   \n",
       "\n",
       "   Current Semester Do you have meritorious scholarship ?  \\\n",
       "0                12                                   Yes   \n",
       "1                 4                                   Yes   \n",
       "2                 5                                    No   \n",
       "3                 4                                   Yes   \n",
       "4                 4                                   Yes   \n",
       "\n",
       "  Do you use University transportation?  How many hour do you study daily?  \\\n",
       "0                                    No                                  3   \n",
       "1                                   Yes                                  3   \n",
       "2                                    No                                  3   \n",
       "3                                    No                                  1   \n",
       "4                                    No                                  3   \n",
       "\n",
       "   How many times do you seat for study in a day?  ...  \\\n",
       "0                                               2  ...   \n",
       "1                                               2  ...   \n",
       "2                                               3  ...   \n",
       "3                                               3  ...   \n",
       "4                                               1  ...   \n",
       "\n",
       "  What is you interested area? What is your relationship status?  \\\n",
       "0                 Data Schince                            Single   \n",
       "1             Event management                            Single   \n",
       "2                     Software                            Single   \n",
       "3      Artificial Intelligence                            Single   \n",
       "4                     Software                      Relationship   \n",
       "\n",
       "  Are you engaged with any co-curriculum activities?  \\\n",
       "0                                                Yes   \n",
       "1                                                Yes   \n",
       "2                                                 No   \n",
       "3                                                 No   \n",
       "4                                                 No   \n",
       "\n",
       "   With whom you are living with? Do you have any health issues?  \\\n",
       "0                        Bachelor                             No   \n",
       "1                          Family                             No   \n",
       "2                        Bachelor                             No   \n",
       "3                        Bachelor                            Yes   \n",
       "4                        Bachelor                            Yes   \n",
       "\n",
       "  What was your previous SGPA? Do you have any physical disabilities?  \\\n",
       "0                         2.68                                     No   \n",
       "1                         2.68                                     No   \n",
       "2                         2.68                                     No   \n",
       "3                         2.68                                     No   \n",
       "4                         2.68                                     No   \n",
       "\n",
       "  What is your current CGPA? How many Credit did you have completed?  \\\n",
       "0                       3.15                                      75   \n",
       "1                       3.15                                      36   \n",
       "2                       3.15                                      50   \n",
       "3                       3.15                                      36   \n",
       "4                       3.15                                      36   \n",
       "\n",
       "  What is your monthly family income?  \n",
       "0                               25000  \n",
       "1                              100000  \n",
       "2                               50000  \n",
       "3                               62488  \n",
       "4                               50000  \n",
       "\n",
       "[5 rows x 31 columns]"
      ]
     },
     "execution_count": 42,
     "metadata": {},
     "output_type": "execute_result"
    }
   ],
   "source": [
    "# Load Students_Performance_data_set.xlsx file\n",
    "path = r\"C:\\Users\\ASUS\\Desktop\\Campus\\3rd Year\\second\\Nature Inspired Algorithms\\Dataset\\Students_Performance_data_set.xlsx\"\n",
    "df = pd.read_excel(path)\n",
    "df.head()"
   ]
  },
  {
   "cell_type": "code",
   "execution_count": 43,
   "id": "7ca2dd7a",
   "metadata": {},
   "outputs": [],
   "source": [
    "# Identify target and feature\n",
    "target_col = 'What is your current CGPA?'\n",
    "one_hot_col = 'Status of your English language proficiency'"
   ]
  },
  {
   "cell_type": "code",
   "execution_count": 44,
   "id": "30924d4e",
   "metadata": {},
   "outputs": [],
   "source": [
    "# Separate column types\n",
    "numerical_cols = df.select_dtypes(include=[np.number]).columns.tolist()\n",
    "categorical_cols = df.select_dtypes(include=['object']).columns.tolist()\n",
    "numerical_cols.remove(target_col)\n",
    "categorical_cols.remove(one_hot_col)"
   ]
  },
  {
   "cell_type": "code",
   "execution_count": 45,
   "id": "cd3f92ac",
   "metadata": {},
   "outputs": [],
   "source": [
    "# Impute missing values\n",
    "df[numerical_cols] = SimpleImputer(strategy='median').fit_transform(df[numerical_cols])\n",
    "df[categorical_cols + [one_hot_col]] = SimpleImputer(strategy='most_frequent').fit_transform(df[categorical_cols + [one_hot_col]])"
   ]
  },
  {
   "cell_type": "code",
   "execution_count": 46,
   "id": "73aaa35c",
   "metadata": {},
   "outputs": [],
   "source": [
    "from sklearn.preprocessing import LabelEncoder\n",
    "import pandas as pd\n",
    "\n",
    "# Make sure all values in categorical columns are strings\n",
    "for col in categorical_cols:\n",
    "    df[col] = df[col].astype(str)\n",
    "    df[col] = LabelEncoder().fit_transform(df[col])\n",
    "\n",
    "# Make sure one_hot_col is string type too (if not already)\n",
    "df[one_hot_col] = df[one_hot_col].astype(str)\n",
    "df = pd.get_dummies(df, columns=[one_hot_col], prefix=\"English\")\n"
   ]
  },
  {
   "cell_type": "code",
   "execution_count": 47,
   "id": "319d467e",
   "metadata": {},
   "outputs": [],
   "source": [
    "# Normalize\n",
    "scaler = MinMaxScaler()\n",
    "df[numerical_cols + [target_col]] = scaler.fit_transform(df[numerical_cols + [target_col]])"
   ]
  },
  {
   "cell_type": "markdown",
   "id": "398ccc5f",
   "metadata": {},
   "source": [
    "### Step 4: Train-Test Split"
   ]
  },
  {
   "cell_type": "code",
   "execution_count": 48,
   "id": "69d2d78b",
   "metadata": {},
   "outputs": [],
   "source": [
    "X = df.drop(columns=[target_col])\n",
    "y = df[target_col]\n",
    "X_train, X_temp, y_train, y_temp = train_test_split(X, y,\n",
    "test_size=0.30, random_state=42)\n",
    "X_val, X_test, y_val, y_test = train_test_split(X_temp, y_temp,\n",
    "test_size=0.50, random_state=42)"
   ]
  },
  {
   "cell_type": "markdown",
   "id": "f95aab5b",
   "metadata": {},
   "source": [
    "### Step 5: Model Training and Evaluation using XGBoost, LightGBM, MLP, Random Forest, SVM\n"
   ]
  },
  {
   "cell_type": "code",
   "execution_count": 49,
   "id": "e9122221",
   "metadata": {},
   "outputs": [],
   "source": [
    "from sklearn.metrics import mean_squared_error, r2_score\n",
    "import numpy as np\n",
    "\n",
    "def evaluate_model(name, y_true, y_pred):\n",
    "    mse = mean_squared_error(y_true, y_pred)\n",
    "    rmse = np.sqrt(mse)\n",
    "    r2 = r2_score(y_true, y_pred)\n",
    "\n",
    "    print(f\"{name} => MSE: {mse:.4f}, RMSE: {rmse:.4f}, R²: {r2:.4f}\")\n",
    "\n",
    "    return {\n",
    "        \"Model\": name,\n",
    "        \"MSE\": mse,\n",
    "        \"RMSE\": rmse,\n",
    "        \"R2\": r2\n",
    "    }\n"
   ]
  },
  {
   "cell_type": "markdown",
   "id": "5e6f9c91",
   "metadata": {},
   "source": [
    "### Train Models"
   ]
  },
  {
   "cell_type": "code",
   "execution_count": 54,
   "id": "d3dfd348",
   "metadata": {},
   "outputs": [],
   "source": [
    "from sklearn.neural_network import MLPRegressor\n",
    "import xgboost as xgb\n",
    "import lightgbm as lgb\n",
    "from sklearn.ensemble import RandomForestRegressor\n",
    "from sklearn.svm import SVR\n",
    "results = []\n"
   ]
  },
  {
   "cell_type": "code",
   "execution_count": 55,
   "id": "1f81a029",
   "metadata": {},
   "outputs": [
    {
     "name": "stdout",
     "output_type": "stream",
     "text": [
      "XGBoost => MSE: 0.0103, RMSE: 0.1015, R²: 0.6737\n"
     ]
    }
   ],
   "source": [
    "# XGBoost\n",
    "xgb_model = xgb.XGBRegressor(n_estimators=100, max_depth=4)\n",
    "xgb_model.fit(X_train, y_train)\n",
    "results.append(evaluate_model(\"XGBoost\", y_test,\n",
    "xgb_model.predict(X_test)))\n"
   ]
  },
  {
   "cell_type": "code",
   "execution_count": 56,
   "id": "b1d0ede5",
   "metadata": {},
   "outputs": [
    {
     "name": "stdout",
     "output_type": "stream",
     "text": [
      "[LightGBM] [Warning] Found whitespace in feature_names, replace with underlines\n",
      "[LightGBM] [Info] Auto-choosing row-wise multi-threading, the overhead of testing was 0.000187 seconds.\n",
      "You can set `force_row_wise=true` to remove the overhead.\n",
      "And if memory is not enough, you can set `force_col_wise=true`.\n",
      "[LightGBM] [Info] Total Bins 503\n",
      "[LightGBM] [Info] Number of data points in the train set: 835, number of used features: 30\n",
      "[LightGBM] [Info] Start training from score 0.788756\n",
      "[LightGBM] [Warning] No further splits with positive gain, best gain: -inf\n",
      "[LightGBM] [Warning] No further splits with positive gain, best gain: -inf\n",
      "[LightGBM] [Warning] No further splits with positive gain, best gain: -inf\n",
      "[LightGBM] [Warning] No further splits with positive gain, best gain: -inf\n",
      "[LightGBM] [Warning] No further splits with positive gain, best gain: -inf\n",
      "[LightGBM] [Warning] No further splits with positive gain, best gain: -inf\n",
      "[LightGBM] [Warning] No further splits with positive gain, best gain: -inf\n",
      "[LightGBM] [Warning] No further splits with positive gain, best gain: -inf\n",
      "[LightGBM] [Warning] No further splits with positive gain, best gain: -inf\n",
      "[LightGBM] [Warning] No further splits with positive gain, best gain: -inf\n",
      "[LightGBM] [Warning] No further splits with positive gain, best gain: -inf\n",
      "[LightGBM] [Warning] No further splits with positive gain, best gain: -inf\n",
      "[LightGBM] [Warning] No further splits with positive gain, best gain: -inf\n",
      "LightGBM => MSE: 0.0095, RMSE: 0.0974, R²: 0.6995\n"
     ]
    }
   ],
   "source": [
    "# LightGBM\n",
    "lgb_model = lgb.LGBMRegressor(n_estimators=200, learning_rate=0.05)\n",
    "lgb_model.fit(X_train, y_train)\n",
    "results.append(evaluate_model(\"LightGBM\", y_test,\n",
    "lgb_model.predict(X_test)))\n"
   ]
  },
  {
   "cell_type": "code",
   "execution_count": 57,
   "id": "2bb0db1a",
   "metadata": {},
   "outputs": [
    {
     "name": "stdout",
     "output_type": "stream",
     "text": [
      "MLP => MSE: 0.0193, RMSE: 0.1391, R²: 0.3874\n"
     ]
    }
   ],
   "source": [
    "# MLP\n",
    "mlp_model = MLPRegressor(hidden_layer_sizes=(64,), max_iter=1000)\n",
    "mlp_model.fit(X_train, y_train)\n",
    "results.append(evaluate_model(\"MLP\", y_test,\n",
    "mlp_model.predict(X_test)))\n"
   ]
  },
  {
   "cell_type": "code",
   "execution_count": 58,
   "id": "2c75bbb1",
   "metadata": {},
   "outputs": [
    {
     "name": "stdout",
     "output_type": "stream",
     "text": [
      "Random Forest => MSE: 0.0095, RMSE: 0.0974, R²: 0.6993\n"
     ]
    }
   ],
   "source": [
    "# Random Forest\n",
    "rf_model = RandomForestRegressor(n_estimators=100)\n",
    "rf_model.fit(X_train, y_train)\n",
    "results.append(evaluate_model(\"Random Forest\", y_test,\n",
    "rf_model.predict(X_test)))"
   ]
  },
  {
   "cell_type": "code",
   "execution_count": 59,
   "id": "c199f40b",
   "metadata": {},
   "outputs": [
    {
     "name": "stdout",
     "output_type": "stream",
     "text": [
      "SVM => MSE: 0.0297, RMSE: 0.1722, R²: 0.0610\n"
     ]
    }
   ],
   "source": [
    "# SVM\n",
    "svm_model = SVR(kernel='rbf')\n",
    "svm_model.fit(X_train, y_train)\n",
    "results.append(evaluate_model(\"SVM\", y_test,\n",
    "svm_model.predict(X_test)))\n"
   ]
  },
  {
   "cell_type": "markdown",
   "id": "9e325937",
   "metadata": {},
   "source": [
    "### Step 6: Summary Table of Results"
   ]
  },
  {
   "cell_type": "code",
   "execution_count": 61,
   "id": "6aab4fa7",
   "metadata": {},
   "outputs": [
    {
     "data": {
      "text/html": [
       "<div>\n",
       "<style scoped>\n",
       "    .dataframe tbody tr th:only-of-type {\n",
       "        vertical-align: middle;\n",
       "    }\n",
       "\n",
       "    .dataframe tbody tr th {\n",
       "        vertical-align: top;\n",
       "    }\n",
       "\n",
       "    .dataframe thead th {\n",
       "        text-align: right;\n",
       "    }\n",
       "</style>\n",
       "<table border=\"1\" class=\"dataframe\">\n",
       "  <thead>\n",
       "    <tr style=\"text-align: right;\">\n",
       "      <th></th>\n",
       "      <th>Model</th>\n",
       "      <th>MSE</th>\n",
       "      <th>RMSE</th>\n",
       "      <th>R2</th>\n",
       "    </tr>\n",
       "  </thead>\n",
       "  <tbody>\n",
       "    <tr>\n",
       "      <th>0</th>\n",
       "      <td>XGBoost</td>\n",
       "      <td>0.010305</td>\n",
       "      <td>0.101514</td>\n",
       "      <td>0.673696</td>\n",
       "    </tr>\n",
       "    <tr>\n",
       "      <th>1</th>\n",
       "      <td>LightGBM</td>\n",
       "      <td>0.009491</td>\n",
       "      <td>0.097421</td>\n",
       "      <td>0.699479</td>\n",
       "    </tr>\n",
       "    <tr>\n",
       "      <th>2</th>\n",
       "      <td>MLP</td>\n",
       "      <td>0.019347</td>\n",
       "      <td>0.139095</td>\n",
       "      <td>0.387375</td>\n",
       "    </tr>\n",
       "    <tr>\n",
       "      <th>3</th>\n",
       "      <td>Random Forest</td>\n",
       "      <td>0.009496</td>\n",
       "      <td>0.097450</td>\n",
       "      <td>0.699300</td>\n",
       "    </tr>\n",
       "    <tr>\n",
       "      <th>4</th>\n",
       "      <td>SVM</td>\n",
       "      <td>0.029656</td>\n",
       "      <td>0.172208</td>\n",
       "      <td>0.060968</td>\n",
       "    </tr>\n",
       "  </tbody>\n",
       "</table>\n",
       "</div>"
      ],
      "text/plain": [
       "           Model       MSE      RMSE        R2\n",
       "0        XGBoost  0.010305  0.101514  0.673696\n",
       "1       LightGBM  0.009491  0.097421  0.699479\n",
       "2            MLP  0.019347  0.139095  0.387375\n",
       "3  Random Forest  0.009496  0.097450  0.699300\n",
       "4            SVM  0.029656  0.172208  0.060968"
      ]
     },
     "execution_count": 61,
     "metadata": {},
     "output_type": "execute_result"
    }
   ],
   "source": [
    "# Summary Table\n",
    "pd.DataFrame(results)"
   ]
  }
 ],
 "metadata": {
  "kernelspec": {
   "display_name": "NatureInspierdAlgorithm",
   "language": "python",
   "name": "python3"
  },
  "language_info": {
   "codemirror_mode": {
    "name": "ipython",
    "version": 3
   },
   "file_extension": ".py",
   "mimetype": "text/x-python",
   "name": "python",
   "nbconvert_exporter": "python",
   "pygments_lexer": "ipython3",
   "version": "3.7.1"
  }
 },
 "nbformat": 4,
 "nbformat_minor": 5
}
