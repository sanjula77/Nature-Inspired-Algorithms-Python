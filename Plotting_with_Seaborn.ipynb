{
 "cells": [
  {
   "cell_type": "code",
   "execution_count": 2,
   "id": "d557ae2a",
   "metadata": {},
   "outputs": [],
   "source": [
    "import seaborn as sns\n",
    "import pandas as pd"
   ]
  },
  {
   "cell_type": "code",
   "execution_count": 3,
   "id": "f19aab63",
   "metadata": {},
   "outputs": [],
   "source": [
    "df = pd.read_csv(r\"C:\\Users\\ASUS\\Desktop\\Campus\\3rd Year\\second\\Nature Inspired Algorithms\\Dataset\\vehicle.csv\")"
   ]
  },
  {
   "cell_type": "code",
   "execution_count": 4,
   "id": "51285c52",
   "metadata": {},
   "outputs": [],
   "source": [
    "df.drop_duplicates()\n",
    "df['Price'] = pd.to_numeric(df['Price'].replace({'Rs ': '', 'Rs.': '', ',': ''}, regex=True), errors='coerce')\n",
    "df['Mileage'] = pd.to_numeric(df['Mileage'].replace({' km': '', ',': ''}, regex=True), errors='coerce')\n",
    "df['Capacity'] = pd.to_numeric(df['Capacity'].replace({' L': '', ',': ''}, regex=True), errors='coerce')"
   ]
  },
  {
   "cell_type": "code",
   "execution_count": 5,
   "id": "bc6f50cf",
   "metadata": {},
   "outputs": [
    {
     "data": {
      "text/html": [
       "<div>\n",
       "<style scoped>\n",
       "    .dataframe tbody tr th:only-of-type {\n",
       "        vertical-align: middle;\n",
       "    }\n",
       "\n",
       "    .dataframe tbody tr th {\n",
       "        vertical-align: top;\n",
       "    }\n",
       "\n",
       "    .dataframe thead th {\n",
       "        text-align: right;\n",
       "    }\n",
       "</style>\n",
       "<table border=\"1\" class=\"dataframe\">\n",
       "  <thead>\n",
       "    <tr style=\"text-align: right;\">\n",
       "      <th></th>\n",
       "      <th>Brand</th>\n",
       "      <th>Model</th>\n",
       "      <th>Year</th>\n",
       "      <th>Price</th>\n",
       "      <th>Condition</th>\n",
       "      <th>Transmission</th>\n",
       "      <th>Body</th>\n",
       "      <th>Fuel</th>\n",
       "      <th>Mileage</th>\n",
       "      <th>Capacity</th>\n",
       "      <th>Review</th>\n",
       "    </tr>\n",
       "  </thead>\n",
       "  <tbody>\n",
       "    <tr>\n",
       "      <th>0</th>\n",
       "      <td>Honda</td>\n",
       "      <td>Vezel</td>\n",
       "      <td>2017</td>\n",
       "      <td>12900000</td>\n",
       "      <td>Used</td>\n",
       "      <td>Automatic</td>\n",
       "      <td>SUV / 4x4</td>\n",
       "      <td>Hybrid</td>\n",
       "      <td>37000</td>\n",
       "      <td>NaN</td>\n",
       "      <td>V.Bad</td>\n",
       "    </tr>\n",
       "    <tr>\n",
       "      <th>1</th>\n",
       "      <td>Jaguar</td>\n",
       "      <td>XF</td>\n",
       "      <td>2013</td>\n",
       "      <td>16250000</td>\n",
       "      <td>Used</td>\n",
       "      <td>Automatic</td>\n",
       "      <td>Saloon</td>\n",
       "      <td>Diesel</td>\n",
       "      <td>42000</td>\n",
       "      <td>NaN</td>\n",
       "      <td>Good</td>\n",
       "    </tr>\n",
       "    <tr>\n",
       "      <th>2</th>\n",
       "      <td>Toyota</td>\n",
       "      <td>CHR</td>\n",
       "      <td>2020</td>\n",
       "      <td>17000000</td>\n",
       "      <td>Used</td>\n",
       "      <td>Automatic</td>\n",
       "      <td>SUV / 4x4</td>\n",
       "      <td>Petrol</td>\n",
       "      <td>15000</td>\n",
       "      <td>NaN</td>\n",
       "      <td>Ok</td>\n",
       "    </tr>\n",
       "    <tr>\n",
       "      <th>3</th>\n",
       "      <td>Toyota</td>\n",
       "      <td>CHR</td>\n",
       "      <td>2017</td>\n",
       "      <td>13000000</td>\n",
       "      <td>Used</td>\n",
       "      <td>Automatic</td>\n",
       "      <td>SUV / 4x4</td>\n",
       "      <td>Petrol</td>\n",
       "      <td>21000</td>\n",
       "      <td>NaN</td>\n",
       "      <td>Bad</td>\n",
       "    </tr>\n",
       "    <tr>\n",
       "      <th>4</th>\n",
       "      <td>Toyota</td>\n",
       "      <td>Land Cruiser Prado</td>\n",
       "      <td>2015</td>\n",
       "      <td>33500000</td>\n",
       "      <td>Used</td>\n",
       "      <td>Automatic</td>\n",
       "      <td>SUV / 4x4</td>\n",
       "      <td>Petrol</td>\n",
       "      <td>57000</td>\n",
       "      <td>NaN</td>\n",
       "      <td>V.Good</td>\n",
       "    </tr>\n",
       "  </tbody>\n",
       "</table>\n",
       "</div>"
      ],
      "text/plain": [
       "    Brand               Model  Year     Price Condition Transmission  \\\n",
       "0   Honda               Vezel  2017  12900000      Used    Automatic   \n",
       "1  Jaguar                  XF  2013  16250000      Used    Automatic   \n",
       "2  Toyota                 CHR  2020  17000000      Used    Automatic   \n",
       "3  Toyota                 CHR  2017  13000000      Used    Automatic   \n",
       "4  Toyota  Land Cruiser Prado  2015  33500000      Used    Automatic   \n",
       "\n",
       "        Body    Fuel  Mileage  Capacity  Review  \n",
       "0  SUV / 4x4  Hybrid    37000       NaN   V.Bad  \n",
       "1     Saloon  Diesel    42000       NaN    Good  \n",
       "2  SUV / 4x4  Petrol    15000       NaN      Ok  \n",
       "3  SUV / 4x4  Petrol    21000       NaN     Bad  \n",
       "4  SUV / 4x4  Petrol    57000       NaN  V.Good  "
      ]
     },
     "execution_count": 5,
     "metadata": {},
     "output_type": "execute_result"
    }
   ],
   "source": [
    "# Show selected columns\n",
    "\n",
    "df[['Brand','Model','Year','Price','Condition','Transmission','Body','Fuel', 'Mileage','Capacity','Review']].head()"
   ]
  },
  {
   "cell_type": "code",
   "execution_count": 6,
   "id": "e1384b16",
   "metadata": {},
   "outputs": [
    {
     "name": "stderr",
     "output_type": "stream",
     "text": [
      "No artists with labels found to put in legend.  Note that artists whose label start with an underscore are ignored when legend() is called with no argument.\n"
     ]
    },
    {
     "data": {
      "image/png": "[encoded data removed]",
      "text/plain": [
       "<Figure size 640x480 with 1 Axes>"
      ]
     },
     "metadata": {},
     "output_type": "display_data"
    }
   ],
   "source": [
    "import matplotlib.pyplot as plt\n",
    "# Using Seaborn to visualize the data\n",
    "sns.set(style=\"whitegrid\")\n",
    "# Create a scatter plot\n",
    "sns.scatterplot(data=df, x='Mileage', y='Price', hue='Brand', style='Condition', size='Capacity', sizes=(20, 200), alpha=0.7)\n",
    "plt.title('Vehicle Price vs Mileage')   \n",
    "plt.xlabel('Mileage (km)')\n",
    "plt.ylabel('Price (Rs)')\n",
    "plt.legend(bbox_to_anchor=(1.05, 1), loc='upper left')\n",
    "plt.show()"
   ]
  }
 ],
 "metadata": {
  "kernelspec": {
   "display_name": "NatureInspierdAlgorithm",
   "language": "python",
   "name": "python3"
  },
  "language_info": {
   "codemirror_mode": {
    "name": "ipython",
    "version": 3
   },
   "file_extension": ".py",
   "mimetype": "text/x-python",
   "name": "python",
   "nbconvert_exporter": "python",
   "pygments_lexer": "ipython3",
   "version": "3.7.1"
  }
 },
 "nbformat": 4,
 "nbformat_minor": 5
}
