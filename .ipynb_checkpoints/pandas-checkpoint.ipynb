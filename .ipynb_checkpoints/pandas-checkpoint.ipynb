{
 "cells": [
  {
   "cell_type": "code",
   "execution_count": 1,
   "id": "9085d31d",
   "metadata": {},
   "outputs": [
    {
     "name": "stdout",
     "output_type": "stream",
     "text": [
      "1.3.5\n"
     ]
    }
   ],
   "source": [
    "import pandas as pd\n",
    "print(pd.__version__)"
   ]
  },
  {
   "cell_type": "code",
   "execution_count": 8,
   "id": "d9d5a78b",
   "metadata": {},
   "outputs": [
    {
     "name": "stdout",
     "output_type": "stream",
     "text": [
      "                                      Title  \\\n",
      "0         Honda Vezel Limited 2017 for sale   \n",
      "1      Jaguar XF Fully Loaded 2013 for sale   \n",
      "2  Toyota CHR GT New Face 2wd 2020 for sale   \n",
      "3           Toyota CHR Toyato 2017 for sale   \n",
      "4   Toyota Land Cruiser Prado 2015 for sale   \n",
      "\n",
      "                                           Sub_title          Price   Brand  \\\n",
      "0  Posted on 01 Sep 2:45 pm, Kurunegala City, Kur...  Rs 12,900,000   Honda   \n",
      "1  Posted on 28 Sep 10:23 am, Kurunegala City, Ku...  Rs 16,250,000  Jaguar   \n",
      "2       Posted on 16 Sep 1:16 pm, Colombo 7, Colombo  Rs 17,000,000  Toyota   \n",
      "3      Posted on 30 Sep 10:12 am, Colombo 7, Colombo  Rs 13,000,000  Toyota   \n",
      "4        Posted on 30 Sep 9:50 pm, Kelaniya, Gampaha  Rs 33,500,000  Toyota   \n",
      "\n",
      "                Model          Edition  Year Condition Transmission  \\\n",
      "0               Vezel          Limited  2017      Used    Automatic   \n",
      "1                  XF     Fully Loaded  2013      Used    Automatic   \n",
      "2                 CHR  GT New Face 2wd  2020      Used    Automatic   \n",
      "3                 CHR           Toyato  2017      Used    Automatic   \n",
      "4  Land Cruiser Prado            prado  2015      Used    Automatic   \n",
      "\n",
      "        Body    Fuel  Capacity    Mileage                       Location  \\\n",
      "0  SUV / 4x4  Hybrid  1,500 cc  37,000 km   Kurunegala City,  Kurunegala   \n",
      "1     Saloon  Diesel  2,200 cc  42,000 km   Kurunegala City,  Kurunegala   \n",
      "2  SUV / 4x4  Petrol  1,200 cc  15,000 km            Colombo 7,  Colombo   \n",
      "3  SUV / 4x4  Petrol  1,200 cc  21,000 km            Colombo 7,  Colombo   \n",
      "4  SUV / 4x4  Petrol  2,700 cc  57,000 km             Kelaniya,  Gampaha   \n",
      "\n",
      "                                         Description  \\\n",
      "0  HONDA VEZEL LIMITEDCBE-XXXXMANU YEAR : 2017LIM...   \n",
      "1  1st owner(registered owner)Diesel(13-14km per ...   \n",
      "2  2020 Facelift modelFirst owner (No previous ow...   \n",
      "3  Toyota CHR GT Turbo1st owner Imported as a bra...   \n",
      "4  Toyota Land Cruiser Prado 20152 nd Owner for 5...   \n",
      "\n",
      "                                            Post_URL          Seller_name  \\\n",
      "0  https://ikman.lk/en/ad/honda-vezel-limited-201...   Prasad Enterprises   \n",
      "1  https://ikman.lk/en/ad/jaguar-xf-fully-loaded-...  Dhanushka Dharmasri   \n",
      "2  https://ikman.lk/en/ad/toyota-chr-gt-new-face-...        Carzone Lanka   \n",
      "3  https://ikman.lk/en/ad/toyota-chr-toyato-2017-...        Carzone Lanka   \n",
      "4  https://ikman.lk/en/ad/toyota-land-cruiser-pra...   Shine Music Center   \n",
      "\n",
      "      Seller_type   published_date  Review  \n",
      "0  Premium-Member   9/1/2022 14:45   V.Bad  \n",
      "1          Member  9/28/2022 10:23    Good  \n",
      "2          Member  9/16/2022 13:16      Ok  \n",
      "3          Member  9/30/2022 10:12     Bad  \n",
      "4          Member  9/30/2022 21:50  V.Good  \n"
     ]
    }
   ],
   "source": [
    "# Read a CSV file using pandas\n",
    "csv_path = r\"C:\\Users\\ASUS\\Desktop\\Campus\\3rd Year\\second\\Nature Inspired Algorithms\\Dataset\\vehicle.csv\"\n",
    "df = pd.read_csv(csv_path)\n",
    "print(df.head())"
   ]
  },
  {
   "cell_type": "code",
   "execution_count": 7,
   "id": "f26729ea",
   "metadata": {},
   "outputs": [
    {
     "name": "stdout",
     "output_type": "stream",
     "text": [
      "        country    capital\n",
      "0        Brazil   Brasilia\n",
      "1        Russia     Moscow\n",
      "2         India  New Delhi\n",
      "3         China    Beijing\n",
      "4  South Africa   Pretoria\n"
     ]
    }
   ],
   "source": [
    "dataset_1 = {'country': ['Brazil', 'Russia', 'India', 'China', 'South Africa'],\n",
    "            'capital': ['Brasilia', 'Moscow', 'New Delhi', 'Beijing', 'Pretoria'],}\n",
    "dataframe_1 = pd.DataFrame(dataset_1)\n",
    "print(dataframe_1)"
   ]
  },
  {
   "cell_type": "code",
   "execution_count": 6,
   "id": "a1bc9876",
   "metadata": {},
   "outputs": [
    {
     "name": "stdout",
     "output_type": "stream",
     "text": [
      "a           NumPy\n",
      "b          Pandas\n",
      "c      Matplotlib\n",
      "d    Scikit-learn\n",
      "dtype: object\n"
     ]
    }
   ],
   "source": [
    "s_2 = pd.Series(list_1, index=['a', 'b', 'c', 'd'])\n",
    "print(s_2)"
   ]
  },
  {
   "cell_type": "code",
   "execution_count": 5,
   "id": "acac7131",
   "metadata": {},
   "outputs": [
    {
     "name": "stdout",
     "output_type": "stream",
     "text": [
      "<class 'pandas.core.series.Series'>\n",
      "0           NumPy\n",
      "1          Pandas\n",
      "2      Matplotlib\n",
      "3    Scikit-learn\n",
      "dtype: object\n"
     ]
    }
   ],
   "source": [
    "list_1 = [\"NumPy\", \"Pandas\", \"Matplotlib\", \"Scikit-learn\"]\n",
    "s_1 = pd.Series(list_1)\n",
    "print(type(s_1))\n",
    "print(s_1)"
   ]
  },
  {
   "cell_type": "code",
   "execution_count": null,
   "id": "3a307acb",
   "metadata": {},
   "outputs": [],
   "source": [
    "# Read a CSV file using pandas\n",
    "csv_path = r\"C:\\Users\\ASUS\\Desktop\\Campus\\3rd Year\\second\\Nature Inspired Algorithms\\Dataset\\vehicle.csv\"\n",
    "df = pd.read_csv(csv_path)\n",
    "print(df.head())\n"
   ]
  }
 ],
 "metadata": {
  "kernelspec": {
   "display_name": "Python 3 (ipykernel)",
   "language": "python",
   "name": "python3"
  },
  "language_info": {
   "codemirror_mode": {
    "name": "ipython",
    "version": 3
   },
   "file_extension": ".py",
   "mimetype": "text/x-python",
   "name": "python",
   "nbconvert_exporter": "python",
   "pygments_lexer": "ipython3",
   "version": "3.7.1"
  }
 },
 "nbformat": 4,
 "nbformat_minor": 5
}
